{
 "cells": [
  {
   "cell_type": "markdown",
   "id": "21232eda-51c4-4d09-ad3e-25d7e3702fef",
   "metadata": {},
   "source": [
    "#### Lag and shift"
   ]
  },
  {
   "cell_type": "code",
   "execution_count": 1,
   "id": "fbd2a084-ee20-4de5-bdcb-515a7ba51a61",
   "metadata": {
    "ExecuteTime": {
     "end_time": "2024-02-24T07:46:27.282551Z",
     "start_time": "2024-02-24T07:46:26.003255Z"
    }
   },
   "outputs": [],
   "source": [
    "import pandas as pd"
   ]
  },
  {
   "cell_type": "code",
   "execution_count": 2,
   "id": "6dcfd2e7-6108-432a-8e0b-6be21ec0e0df",
   "metadata": {
    "ExecuteTime": {
     "end_time": "2024-02-24T07:46:27.309475Z",
     "start_time": "2024-02-24T07:46:27.282551Z"
    }
   },
   "outputs": [
    {
     "data": {
      "text/html": [
       "<div>\n",
       "<style scoped>\n",
       "    .dataframe tbody tr th:only-of-type {\n",
       "        vertical-align: middle;\n",
       "    }\n",
       "\n",
       "    .dataframe tbody tr th {\n",
       "        vertical-align: top;\n",
       "    }\n",
       "\n",
       "    .dataframe thead th {\n",
       "        text-align: right;\n",
       "    }\n",
       "</style>\n",
       "<table border=\"1\" class=\"dataframe\">\n",
       "  <thead>\n",
       "    <tr style=\"text-align: right;\">\n",
       "      <th></th>\n",
       "      <th>Temp</th>\n",
       "    </tr>\n",
       "    <tr>\n",
       "      <th>Date</th>\n",
       "      <th></th>\n",
       "    </tr>\n",
       "  </thead>\n",
       "  <tbody>\n",
       "    <tr>\n",
       "      <th>1981-01-01</th>\n",
       "      <td>20.7</td>\n",
       "    </tr>\n",
       "    <tr>\n",
       "      <th>1981-01-02</th>\n",
       "      <td>17.9</td>\n",
       "    </tr>\n",
       "    <tr>\n",
       "      <th>1981-01-03</th>\n",
       "      <td>18.8</td>\n",
       "    </tr>\n",
       "    <tr>\n",
       "      <th>1981-01-04</th>\n",
       "      <td>14.6</td>\n",
       "    </tr>\n",
       "    <tr>\n",
       "      <th>1981-01-05</th>\n",
       "      <td>15.8</td>\n",
       "    </tr>\n",
       "  </tbody>\n",
       "</table>\n",
       "</div>"
      ],
      "text/plain": [
       "            Temp\n",
       "Date            \n",
       "1981-01-01  20.7\n",
       "1981-01-02  17.9\n",
       "1981-01-03  18.8\n",
       "1981-01-04  14.6\n",
       "1981-01-05  15.8"
      ]
     },
     "execution_count": 2,
     "metadata": {},
     "output_type": "execute_result"
    }
   ],
   "source": [
    "tseries = pd.read_csv('daily-min-temperatures.csv', header=0, index_col=0)\n",
    "tseries.head()"
   ]
  },
  {
   "cell_type": "code",
   "execution_count": 42,
   "id": "0bebe4c0-a6c6-4bd3-b013-7442be4da208",
   "metadata": {
    "ExecuteTime": {
     "end_time": "2024-02-24T09:35:00.901179Z",
     "start_time": "2024-02-24T09:35:00.879714Z"
    }
   },
   "outputs": [
    {
     "data": {
      "text/html": [
       "<div>\n",
       "<style scoped>\n",
       "    .dataframe tbody tr th:only-of-type {\n",
       "        vertical-align: middle;\n",
       "    }\n",
       "\n",
       "    .dataframe tbody tr th {\n",
       "        vertical-align: top;\n",
       "    }\n",
       "\n",
       "    .dataframe thead th {\n",
       "        text-align: right;\n",
       "    }\n",
       "</style>\n",
       "<table border=\"1\" class=\"dataframe\">\n",
       "  <thead>\n",
       "    <tr style=\"text-align: right;\">\n",
       "      <th></th>\n",
       "      <th>0</th>\n",
       "    </tr>\n",
       "  </thead>\n",
       "  <tbody>\n",
       "    <tr>\n",
       "      <th>0</th>\n",
       "      <td>20.7</td>\n",
       "    </tr>\n",
       "    <tr>\n",
       "      <th>1</th>\n",
       "      <td>17.9</td>\n",
       "    </tr>\n",
       "    <tr>\n",
       "      <th>2</th>\n",
       "      <td>18.8</td>\n",
       "    </tr>\n",
       "    <tr>\n",
       "      <th>3</th>\n",
       "      <td>14.6</td>\n",
       "    </tr>\n",
       "    <tr>\n",
       "      <th>4</th>\n",
       "      <td>15.8</td>\n",
       "    </tr>\n",
       "  </tbody>\n",
       "</table>\n",
       "</div>"
      ],
      "text/plain": [
       "      0\n",
       "0  20.7\n",
       "1  17.9\n",
       "2  18.8\n",
       "3  14.6\n",
       "4  15.8"
      ]
     },
     "execution_count": 42,
     "metadata": {},
     "output_type": "execute_result"
    }
   ],
   "source": [
    "#tseries\n",
    "intermediate = pd.DataFrame(tseries.values)\n",
    "intermediate.head()"
   ]
  },
  {
   "cell_type": "code",
   "execution_count": 47,
   "id": "60f4daa6-9a89-4869-813c-cc9a21ab8981",
   "metadata": {
    "ExecuteTime": {
     "end_time": "2024-02-24T09:38:10.668650Z",
     "start_time": "2024-02-24T09:38:10.657965Z"
    }
   },
   "outputs": [
    {
     "data": {
      "text/plain": [
       "Rolling [window=3,center=False,axis=0,method=single]"
      ]
     },
     "execution_count": 47,
     "metadata": {},
     "output_type": "execute_result"
    }
   ],
   "source": [
    "#intermediate\n",
    "rolling = intermediate.rolling(3)\n",
    "rolling"
   ]
  },
  {
   "cell_type": "code",
   "execution_count": 48,
   "id": "245fcbf1-b691-41a9-8ad2-79de4257e71a",
   "metadata": {
    "ExecuteTime": {
     "end_time": "2024-02-24T09:38:11.390127Z",
     "start_time": "2024-02-24T09:38:11.370139Z"
    }
   },
   "outputs": [
    {
     "data": {
      "text/html": [
       "<div>\n",
       "<style scoped>\n",
       "    .dataframe tbody tr th:only-of-type {\n",
       "        vertical-align: middle;\n",
       "    }\n",
       "\n",
       "    .dataframe tbody tr th {\n",
       "        vertical-align: top;\n",
       "    }\n",
       "\n",
       "    .dataframe thead th {\n",
       "        text-align: right;\n",
       "    }\n",
       "</style>\n",
       "<table border=\"1\" class=\"dataframe\">\n",
       "  <thead>\n",
       "    <tr style=\"text-align: right;\">\n",
       "      <th></th>\n",
       "      <th>0</th>\n",
       "    </tr>\n",
       "  </thead>\n",
       "  <tbody>\n",
       "    <tr>\n",
       "      <th>0</th>\n",
       "      <td>20.7</td>\n",
       "    </tr>\n",
       "    <tr>\n",
       "      <th>1</th>\n",
       "      <td>17.9</td>\n",
       "    </tr>\n",
       "    <tr>\n",
       "      <th>2</th>\n",
       "      <td>18.8</td>\n",
       "    </tr>\n",
       "    <tr>\n",
       "      <th>3</th>\n",
       "      <td>14.6</td>\n",
       "    </tr>\n",
       "    <tr>\n",
       "      <th>4</th>\n",
       "      <td>15.8</td>\n",
       "    </tr>\n",
       "    <tr>\n",
       "      <th>5</th>\n",
       "      <td>15.8</td>\n",
       "    </tr>\n",
       "    <tr>\n",
       "      <th>6</th>\n",
       "      <td>15.8</td>\n",
       "    </tr>\n",
       "    <tr>\n",
       "      <th>7</th>\n",
       "      <td>17.4</td>\n",
       "    </tr>\n",
       "    <tr>\n",
       "      <th>8</th>\n",
       "      <td>21.8</td>\n",
       "    </tr>\n",
       "    <tr>\n",
       "      <th>9</th>\n",
       "      <td>20.0</td>\n",
       "    </tr>\n",
       "  </tbody>\n",
       "</table>\n",
       "</div>"
      ],
      "text/plain": [
       "      0\n",
       "0  20.7\n",
       "1  17.9\n",
       "2  18.8\n",
       "3  14.6\n",
       "4  15.8\n",
       "5  15.8\n",
       "6  15.8\n",
       "7  17.4\n",
       "8  21.8\n",
       "9  20.0"
      ]
     },
     "execution_count": 48,
     "metadata": {},
     "output_type": "execute_result"
    }
   ],
   "source": [
    "intermediate.head(10)"
   ]
  },
  {
   "cell_type": "code",
   "execution_count": 49,
   "id": "5979ccf1-bb9a-4a37-8d1a-ca1a74f14d81",
   "metadata": {
    "ExecuteTime": {
     "end_time": "2024-02-24T09:38:11.907841Z",
     "start_time": "2024-02-24T09:38:11.890676Z"
    }
   },
   "outputs": [
    {
     "data": {
      "text/html": [
       "<div>\n",
       "<style scoped>\n",
       "    .dataframe tbody tr th:only-of-type {\n",
       "        vertical-align: middle;\n",
       "    }\n",
       "\n",
       "    .dataframe tbody tr th {\n",
       "        vertical-align: top;\n",
       "    }\n",
       "\n",
       "    .dataframe thead th {\n",
       "        text-align: right;\n",
       "    }\n",
       "</style>\n",
       "<table border=\"1\" class=\"dataframe\">\n",
       "  <thead>\n",
       "    <tr style=\"text-align: right;\">\n",
       "      <th></th>\n",
       "      <th>0</th>\n",
       "    </tr>\n",
       "  </thead>\n",
       "  <tbody>\n",
       "    <tr>\n",
       "      <th>0</th>\n",
       "      <td>NaN</td>\n",
       "    </tr>\n",
       "    <tr>\n",
       "      <th>1</th>\n",
       "      <td>NaN</td>\n",
       "    </tr>\n",
       "    <tr>\n",
       "      <th>2</th>\n",
       "      <td>17.9</td>\n",
       "    </tr>\n",
       "    <tr>\n",
       "      <th>3</th>\n",
       "      <td>14.6</td>\n",
       "    </tr>\n",
       "    <tr>\n",
       "      <th>4</th>\n",
       "      <td>14.6</td>\n",
       "    </tr>\n",
       "    <tr>\n",
       "      <th>5</th>\n",
       "      <td>14.6</td>\n",
       "    </tr>\n",
       "    <tr>\n",
       "      <th>6</th>\n",
       "      <td>15.8</td>\n",
       "    </tr>\n",
       "    <tr>\n",
       "      <th>7</th>\n",
       "      <td>15.8</td>\n",
       "    </tr>\n",
       "    <tr>\n",
       "      <th>8</th>\n",
       "      <td>15.8</td>\n",
       "    </tr>\n",
       "    <tr>\n",
       "      <th>9</th>\n",
       "      <td>17.4</td>\n",
       "    </tr>\n",
       "  </tbody>\n",
       "</table>\n",
       "</div>"
      ],
      "text/plain": [
       "      0\n",
       "0   NaN\n",
       "1   NaN\n",
       "2  17.9\n",
       "3  14.6\n",
       "4  14.6\n",
       "5  14.6\n",
       "6  15.8\n",
       "7  15.8\n",
       "8  15.8\n",
       "9  17.4"
      ]
     },
     "execution_count": 49,
     "metadata": {},
     "output_type": "execute_result"
    }
   ],
   "source": [
    "rolling.min().head(10)"
   ]
  },
  {
   "cell_type": "code",
   "execution_count": 7,
   "id": "55131905-5fac-46fd-a909-6f406bea0849",
   "metadata": {
    "ExecuteTime": {
     "end_time": "2024-02-24T07:46:27.395407Z",
     "start_time": "2024-02-24T07:46:27.380148Z"
    }
   },
   "outputs": [],
   "source": [
    "window = intermediate.expanding()"
   ]
  },
  {
   "cell_type": "code",
   "execution_count": 8,
   "id": "5c20b3aa-96aa-41c0-a93c-275e8b4f8745",
   "metadata": {
    "ExecuteTime": {
     "end_time": "2024-02-24T07:46:27.411076Z",
     "start_time": "2024-02-24T07:46:27.398369Z"
    }
   },
   "outputs": [
    {
     "data": {
      "text/plain": [
       "Expanding [min_periods=1,center=False,axis=0,method=single]"
      ]
     },
     "execution_count": 8,
     "metadata": {},
     "output_type": "execute_result"
    }
   ],
   "source": [
    "window"
   ]
  },
  {
   "cell_type": "code",
   "execution_count": 51,
   "id": "4d0dc687-3891-49e0-b54f-188e9f6058ad",
   "metadata": {
    "ExecuteTime": {
     "end_time": "2024-02-24T09:39:05.560321Z",
     "start_time": "2024-02-24T09:39:05.548072Z"
    }
   },
   "outputs": [
    {
     "data": {
      "text/html": [
       "<div>\n",
       "<style scoped>\n",
       "    .dataframe tbody tr th:only-of-type {\n",
       "        vertical-align: middle;\n",
       "    }\n",
       "\n",
       "    .dataframe tbody tr th {\n",
       "        vertical-align: top;\n",
       "    }\n",
       "\n",
       "    .dataframe thead th {\n",
       "        text-align: right;\n",
       "    }\n",
       "</style>\n",
       "<table border=\"1\" class=\"dataframe\">\n",
       "  <thead>\n",
       "    <tr style=\"text-align: right;\">\n",
       "      <th></th>\n",
       "      <th>0</th>\n",
       "    </tr>\n",
       "  </thead>\n",
       "  <tbody>\n",
       "    <tr>\n",
       "      <th>0</th>\n",
       "      <td>20.7</td>\n",
       "    </tr>\n",
       "    <tr>\n",
       "      <th>1</th>\n",
       "      <td>17.9</td>\n",
       "    </tr>\n",
       "    <tr>\n",
       "      <th>2</th>\n",
       "      <td>18.8</td>\n",
       "    </tr>\n",
       "    <tr>\n",
       "      <th>3</th>\n",
       "      <td>14.6</td>\n",
       "    </tr>\n",
       "    <tr>\n",
       "      <th>4</th>\n",
       "      <td>15.8</td>\n",
       "    </tr>\n",
       "    <tr>\n",
       "      <th>5</th>\n",
       "      <td>15.8</td>\n",
       "    </tr>\n",
       "    <tr>\n",
       "      <th>6</th>\n",
       "      <td>15.8</td>\n",
       "    </tr>\n",
       "    <tr>\n",
       "      <th>7</th>\n",
       "      <td>17.4</td>\n",
       "    </tr>\n",
       "    <tr>\n",
       "      <th>8</th>\n",
       "      <td>21.8</td>\n",
       "    </tr>\n",
       "    <tr>\n",
       "      <th>9</th>\n",
       "      <td>20.0</td>\n",
       "    </tr>\n",
       "  </tbody>\n",
       "</table>\n",
       "</div>"
      ],
      "text/plain": [
       "      0\n",
       "0  20.7\n",
       "1  17.9\n",
       "2  18.8\n",
       "3  14.6\n",
       "4  15.8\n",
       "5  15.8\n",
       "6  15.8\n",
       "7  17.4\n",
       "8  21.8\n",
       "9  20.0"
      ]
     },
     "execution_count": 51,
     "metadata": {},
     "output_type": "execute_result"
    }
   ],
   "source": [
    "intermediate.head(10)"
   ]
  },
  {
   "cell_type": "code",
   "execution_count": 52,
   "id": "ea7033e7-4f4a-47bd-97ec-32ef63e3be58",
   "metadata": {
    "ExecuteTime": {
     "end_time": "2024-02-24T09:39:08.652004Z",
     "start_time": "2024-02-24T09:39:08.631127Z"
    }
   },
   "outputs": [
    {
     "data": {
      "text/html": [
       "<div>\n",
       "<style scoped>\n",
       "    .dataframe tbody tr th:only-of-type {\n",
       "        vertical-align: middle;\n",
       "    }\n",
       "\n",
       "    .dataframe tbody tr th {\n",
       "        vertical-align: top;\n",
       "    }\n",
       "\n",
       "    .dataframe thead th {\n",
       "        text-align: right;\n",
       "    }\n",
       "</style>\n",
       "<table border=\"1\" class=\"dataframe\">\n",
       "  <thead>\n",
       "    <tr style=\"text-align: right;\">\n",
       "      <th></th>\n",
       "      <th>0</th>\n",
       "    </tr>\n",
       "  </thead>\n",
       "  <tbody>\n",
       "    <tr>\n",
       "      <th>0</th>\n",
       "      <td>20.7</td>\n",
       "    </tr>\n",
       "    <tr>\n",
       "      <th>1</th>\n",
       "      <td>17.9</td>\n",
       "    </tr>\n",
       "    <tr>\n",
       "      <th>2</th>\n",
       "      <td>17.9</td>\n",
       "    </tr>\n",
       "    <tr>\n",
       "      <th>3</th>\n",
       "      <td>14.6</td>\n",
       "    </tr>\n",
       "    <tr>\n",
       "      <th>4</th>\n",
       "      <td>14.6</td>\n",
       "    </tr>\n",
       "    <tr>\n",
       "      <th>5</th>\n",
       "      <td>14.6</td>\n",
       "    </tr>\n",
       "    <tr>\n",
       "      <th>6</th>\n",
       "      <td>14.6</td>\n",
       "    </tr>\n",
       "    <tr>\n",
       "      <th>7</th>\n",
       "      <td>14.6</td>\n",
       "    </tr>\n",
       "    <tr>\n",
       "      <th>8</th>\n",
       "      <td>14.6</td>\n",
       "    </tr>\n",
       "    <tr>\n",
       "      <th>9</th>\n",
       "      <td>14.6</td>\n",
       "    </tr>\n",
       "  </tbody>\n",
       "</table>\n",
       "</div>"
      ],
      "text/plain": [
       "      0\n",
       "0  20.7\n",
       "1  17.9\n",
       "2  17.9\n",
       "3  14.6\n",
       "4  14.6\n",
       "5  14.6\n",
       "6  14.6\n",
       "7  14.6\n",
       "8  14.6\n",
       "9  14.6"
      ]
     },
     "execution_count": 52,
     "metadata": {},
     "output_type": "execute_result"
    }
   ],
   "source": [
    "window.min().head(10)"
   ]
  },
  {
   "cell_type": "code",
   "execution_count": 11,
   "id": "ae0d65f9-5bae-48b0-9805-44ea68078177",
   "metadata": {
    "ExecuteTime": {
     "end_time": "2024-02-24T07:46:27.455760Z",
     "start_time": "2024-02-24T07:46:27.441802Z"
    }
   },
   "outputs": [
    {
     "data": {
      "text/html": [
       "<div>\n",
       "<style scoped>\n",
       "    .dataframe tbody tr th:only-of-type {\n",
       "        vertical-align: middle;\n",
       "    }\n",
       "\n",
       "    .dataframe tbody tr th {\n",
       "        vertical-align: top;\n",
       "    }\n",
       "\n",
       "    .dataframe thead th {\n",
       "        text-align: right;\n",
       "    }\n",
       "</style>\n",
       "<table border=\"1\" class=\"dataframe\">\n",
       "  <thead>\n",
       "    <tr style=\"text-align: right;\">\n",
       "      <th></th>\n",
       "      <th>0</th>\n",
       "    </tr>\n",
       "  </thead>\n",
       "  <tbody>\n",
       "    <tr>\n",
       "      <th>0</th>\n",
       "      <td>20.7</td>\n",
       "    </tr>\n",
       "    <tr>\n",
       "      <th>1</th>\n",
       "      <td>17.9</td>\n",
       "    </tr>\n",
       "    <tr>\n",
       "      <th>2</th>\n",
       "      <td>18.8</td>\n",
       "    </tr>\n",
       "    <tr>\n",
       "      <th>3</th>\n",
       "      <td>14.6</td>\n",
       "    </tr>\n",
       "    <tr>\n",
       "      <th>4</th>\n",
       "      <td>15.8</td>\n",
       "    </tr>\n",
       "    <tr>\n",
       "      <th>...</th>\n",
       "      <td>...</td>\n",
       "    </tr>\n",
       "    <tr>\n",
       "      <th>3645</th>\n",
       "      <td>14.0</td>\n",
       "    </tr>\n",
       "    <tr>\n",
       "      <th>3646</th>\n",
       "      <td>13.6</td>\n",
       "    </tr>\n",
       "    <tr>\n",
       "      <th>3647</th>\n",
       "      <td>13.5</td>\n",
       "    </tr>\n",
       "    <tr>\n",
       "      <th>3648</th>\n",
       "      <td>15.7</td>\n",
       "    </tr>\n",
       "    <tr>\n",
       "      <th>3649</th>\n",
       "      <td>13.0</td>\n",
       "    </tr>\n",
       "  </tbody>\n",
       "</table>\n",
       "<p>3650 rows × 1 columns</p>\n",
       "</div>"
      ],
      "text/plain": [
       "         0\n",
       "0     20.7\n",
       "1     17.9\n",
       "2     18.8\n",
       "3     14.6\n",
       "4     15.8\n",
       "...    ...\n",
       "3645  14.0\n",
       "3646  13.6\n",
       "3647  13.5\n",
       "3648  15.7\n",
       "3649  13.0\n",
       "\n",
       "[3650 rows x 1 columns]"
      ]
     },
     "execution_count": 11,
     "metadata": {},
     "output_type": "execute_result"
    }
   ],
   "source": [
    "intermediate"
   ]
  },
  {
   "cell_type": "code",
   "execution_count": 56,
   "id": "606db8e2-023a-4aad-97c8-9427a8b61989",
   "metadata": {
    "ExecuteTime": {
     "end_time": "2024-02-24T09:42:13.428284Z",
     "start_time": "2024-02-24T09:42:13.408766Z"
    }
   },
   "outputs": [
    {
     "data": {
      "text/html": [
       "<div>\n",
       "<style scoped>\n",
       "    .dataframe tbody tr th:only-of-type {\n",
       "        vertical-align: middle;\n",
       "    }\n",
       "\n",
       "    .dataframe tbody tr th {\n",
       "        vertical-align: top;\n",
       "    }\n",
       "\n",
       "    .dataframe thead th {\n",
       "        text-align: right;\n",
       "    }\n",
       "</style>\n",
       "<table border=\"1\" class=\"dataframe\">\n",
       "  <thead>\n",
       "    <tr style=\"text-align: right;\">\n",
       "      <th></th>\n",
       "      <th>0</th>\n",
       "    </tr>\n",
       "  </thead>\n",
       "  <tbody>\n",
       "    <tr>\n",
       "      <th>0</th>\n",
       "      <td>NaN</td>\n",
       "    </tr>\n",
       "    <tr>\n",
       "      <th>1</th>\n",
       "      <td>20.7</td>\n",
       "    </tr>\n",
       "    <tr>\n",
       "      <th>2</th>\n",
       "      <td>17.9</td>\n",
       "    </tr>\n",
       "    <tr>\n",
       "      <th>3</th>\n",
       "      <td>18.8</td>\n",
       "    </tr>\n",
       "    <tr>\n",
       "      <th>4</th>\n",
       "      <td>14.6</td>\n",
       "    </tr>\n",
       "    <tr>\n",
       "      <th>...</th>\n",
       "      <td>...</td>\n",
       "    </tr>\n",
       "    <tr>\n",
       "      <th>3645</th>\n",
       "      <td>14.6</td>\n",
       "    </tr>\n",
       "    <tr>\n",
       "      <th>3646</th>\n",
       "      <td>14.0</td>\n",
       "    </tr>\n",
       "    <tr>\n",
       "      <th>3647</th>\n",
       "      <td>13.6</td>\n",
       "    </tr>\n",
       "    <tr>\n",
       "      <th>3648</th>\n",
       "      <td>13.5</td>\n",
       "    </tr>\n",
       "    <tr>\n",
       "      <th>3649</th>\n",
       "      <td>15.7</td>\n",
       "    </tr>\n",
       "  </tbody>\n",
       "</table>\n",
       "<p>3650 rows × 1 columns</p>\n",
       "</div>"
      ],
      "text/plain": [
       "         0\n",
       "0      NaN\n",
       "1     20.7\n",
       "2     17.9\n",
       "3     18.8\n",
       "4     14.6\n",
       "...    ...\n",
       "3645  14.6\n",
       "3646  14.0\n",
       "3647  13.6\n",
       "3648  13.5\n",
       "3649  15.7\n",
       "\n",
       "[3650 rows x 1 columns]"
      ]
     },
     "execution_count": 56,
     "metadata": {},
     "output_type": "execute_result"
    }
   ],
   "source": [
    "intermediate.shift(1)"
   ]
  },
  {
   "cell_type": "code",
   "execution_count": 58,
   "id": "6d3bbbd1",
   "metadata": {
    "ExecuteTime": {
     "end_time": "2024-02-24T09:43:00.915428Z",
     "start_time": "2024-02-24T09:43:00.891854Z"
    }
   },
   "outputs": [
    {
     "data": {
      "text/html": [
       "<div>\n",
       "<style scoped>\n",
       "    .dataframe tbody tr th:only-of-type {\n",
       "        vertical-align: middle;\n",
       "    }\n",
       "\n",
       "    .dataframe tbody tr th {\n",
       "        vertical-align: top;\n",
       "    }\n",
       "\n",
       "    .dataframe thead th {\n",
       "        text-align: right;\n",
       "    }\n",
       "</style>\n",
       "<table border=\"1\" class=\"dataframe\">\n",
       "  <thead>\n",
       "    <tr style=\"text-align: right;\">\n",
       "      <th></th>\n",
       "      <th>0</th>\n",
       "      <th>0</th>\n",
       "    </tr>\n",
       "  </thead>\n",
       "  <tbody>\n",
       "    <tr>\n",
       "      <th>0</th>\n",
       "      <td>20.7</td>\n",
       "      <td>NaN</td>\n",
       "    </tr>\n",
       "    <tr>\n",
       "      <th>1</th>\n",
       "      <td>17.9</td>\n",
       "      <td>20.7</td>\n",
       "    </tr>\n",
       "    <tr>\n",
       "      <th>2</th>\n",
       "      <td>18.8</td>\n",
       "      <td>17.9</td>\n",
       "    </tr>\n",
       "    <tr>\n",
       "      <th>3</th>\n",
       "      <td>14.6</td>\n",
       "      <td>18.8</td>\n",
       "    </tr>\n",
       "    <tr>\n",
       "      <th>4</th>\n",
       "      <td>15.8</td>\n",
       "      <td>14.6</td>\n",
       "    </tr>\n",
       "    <tr>\n",
       "      <th>...</th>\n",
       "      <td>...</td>\n",
       "      <td>...</td>\n",
       "    </tr>\n",
       "    <tr>\n",
       "      <th>3645</th>\n",
       "      <td>14.0</td>\n",
       "      <td>14.6</td>\n",
       "    </tr>\n",
       "    <tr>\n",
       "      <th>3646</th>\n",
       "      <td>13.6</td>\n",
       "      <td>14.0</td>\n",
       "    </tr>\n",
       "    <tr>\n",
       "      <th>3647</th>\n",
       "      <td>13.5</td>\n",
       "      <td>13.6</td>\n",
       "    </tr>\n",
       "    <tr>\n",
       "      <th>3648</th>\n",
       "      <td>15.7</td>\n",
       "      <td>13.5</td>\n",
       "    </tr>\n",
       "    <tr>\n",
       "      <th>3649</th>\n",
       "      <td>13.0</td>\n",
       "      <td>15.7</td>\n",
       "    </tr>\n",
       "  </tbody>\n",
       "</table>\n",
       "<p>3650 rows × 2 columns</p>\n",
       "</div>"
      ],
      "text/plain": [
       "         0     0\n",
       "0     20.7   NaN\n",
       "1     17.9  20.7\n",
       "2     18.8  17.9\n",
       "3     14.6  18.8\n",
       "4     15.8  14.6\n",
       "...    ...   ...\n",
       "3645  14.0  14.6\n",
       "3646  13.6  14.0\n",
       "3647  13.5  13.6\n",
       "3648  15.7  13.5\n",
       "3649  13.0  15.7\n",
       "\n",
       "[3650 rows x 2 columns]"
      ]
     },
     "execution_count": 58,
     "metadata": {},
     "output_type": "execute_result"
    }
   ],
   "source": [
    "pd.concat([intermediate.shift(0),intermediate.shift(1)], axis=1)"
   ]
  },
  {
   "cell_type": "code",
   "execution_count": 13,
   "id": "e6a698be-984f-4e29-a6da-3ce2f3f9ede7",
   "metadata": {
    "ExecuteTime": {
     "end_time": "2024-02-24T07:46:27.491863Z",
     "start_time": "2024-02-24T07:46:27.472221Z"
    }
   },
   "outputs": [],
   "source": [
    "\n",
    "rolling = intermediate.rolling(3)\n",
    "window = intermediate.expanding()\n",
    "df = pd.concat([window.min(), window.mean(), window.max(), intermediate.shift(-1),\n",
    "                      rolling.min(), rolling.mean(), rolling.max()], axis=1)\n",
    "df.columns = ['min', 'mean', 'max', 't+1', 'min_roll', 'mean_roll', 'max_roll']\n"
   ]
  },
  {
   "cell_type": "code",
   "execution_count": 14,
   "id": "8daec16a-7bba-4c59-a8c4-b49030d64e0d",
   "metadata": {
    "ExecuteTime": {
     "end_time": "2024-02-24T07:46:27.503700Z",
     "start_time": "2024-02-24T07:46:27.493816Z"
    }
   },
   "outputs": [
    {
     "data": {
      "text/html": [
       "<div>\n",
       "<style scoped>\n",
       "    .dataframe tbody tr th:only-of-type {\n",
       "        vertical-align: middle;\n",
       "    }\n",
       "\n",
       "    .dataframe tbody tr th {\n",
       "        vertical-align: top;\n",
       "    }\n",
       "\n",
       "    .dataframe thead th {\n",
       "        text-align: right;\n",
       "    }\n",
       "</style>\n",
       "<table border=\"1\" class=\"dataframe\">\n",
       "  <thead>\n",
       "    <tr style=\"text-align: right;\">\n",
       "      <th></th>\n",
       "      <th>min</th>\n",
       "      <th>mean</th>\n",
       "      <th>max</th>\n",
       "      <th>t+1</th>\n",
       "      <th>min_roll</th>\n",
       "      <th>mean_roll</th>\n",
       "      <th>max_roll</th>\n",
       "    </tr>\n",
       "  </thead>\n",
       "  <tbody>\n",
       "    <tr>\n",
       "      <th>0</th>\n",
       "      <td>20.7</td>\n",
       "      <td>20.700000</td>\n",
       "      <td>20.7</td>\n",
       "      <td>17.9</td>\n",
       "      <td>NaN</td>\n",
       "      <td>NaN</td>\n",
       "      <td>NaN</td>\n",
       "    </tr>\n",
       "    <tr>\n",
       "      <th>1</th>\n",
       "      <td>17.9</td>\n",
       "      <td>19.300000</td>\n",
       "      <td>20.7</td>\n",
       "      <td>18.8</td>\n",
       "      <td>NaN</td>\n",
       "      <td>NaN</td>\n",
       "      <td>NaN</td>\n",
       "    </tr>\n",
       "    <tr>\n",
       "      <th>2</th>\n",
       "      <td>17.9</td>\n",
       "      <td>19.133333</td>\n",
       "      <td>20.7</td>\n",
       "      <td>14.6</td>\n",
       "      <td>17.9</td>\n",
       "      <td>19.133333</td>\n",
       "      <td>20.7</td>\n",
       "    </tr>\n",
       "    <tr>\n",
       "      <th>3</th>\n",
       "      <td>14.6</td>\n",
       "      <td>18.000000</td>\n",
       "      <td>20.7</td>\n",
       "      <td>15.8</td>\n",
       "      <td>14.6</td>\n",
       "      <td>17.100000</td>\n",
       "      <td>18.8</td>\n",
       "    </tr>\n",
       "    <tr>\n",
       "      <th>4</th>\n",
       "      <td>14.6</td>\n",
       "      <td>17.560000</td>\n",
       "      <td>20.7</td>\n",
       "      <td>15.8</td>\n",
       "      <td>14.6</td>\n",
       "      <td>16.400000</td>\n",
       "      <td>18.8</td>\n",
       "    </tr>\n",
       "  </tbody>\n",
       "</table>\n",
       "</div>"
      ],
      "text/plain": [
       "    min       mean   max   t+1  min_roll  mean_roll  max_roll\n",
       "0  20.7  20.700000  20.7  17.9       NaN        NaN       NaN\n",
       "1  17.9  19.300000  20.7  18.8       NaN        NaN       NaN\n",
       "2  17.9  19.133333  20.7  14.6      17.9  19.133333      20.7\n",
       "3  14.6  18.000000  20.7  15.8      14.6  17.100000      18.8\n",
       "4  14.6  17.560000  20.7  15.8      14.6  16.400000      18.8"
      ]
     },
     "execution_count": 14,
     "metadata": {},
     "output_type": "execute_result"
    }
   ],
   "source": [
    "df.head()"
   ]
  },
  {
   "cell_type": "code",
   "execution_count": 15,
   "id": "e44b09cc-1df4-4f1f-92be-929111651730",
   "metadata": {
    "ExecuteTime": {
     "end_time": "2024-02-24T07:46:27.519701Z",
     "start_time": "2024-02-24T07:46:27.504745Z"
    }
   },
   "outputs": [
    {
     "data": {
      "text/html": [
       "<div>\n",
       "<style scoped>\n",
       "    .dataframe tbody tr th:only-of-type {\n",
       "        vertical-align: middle;\n",
       "    }\n",
       "\n",
       "    .dataframe tbody tr th {\n",
       "        vertical-align: top;\n",
       "    }\n",
       "\n",
       "    .dataframe thead th {\n",
       "        text-align: right;\n",
       "    }\n",
       "</style>\n",
       "<table border=\"1\" class=\"dataframe\">\n",
       "  <thead>\n",
       "    <tr style=\"text-align: right;\">\n",
       "      <th></th>\n",
       "      <th>Temp</th>\n",
       "    </tr>\n",
       "    <tr>\n",
       "      <th>Date</th>\n",
       "      <th></th>\n",
       "    </tr>\n",
       "  </thead>\n",
       "  <tbody>\n",
       "    <tr>\n",
       "      <th>1981-01-01</th>\n",
       "      <td>20.7</td>\n",
       "    </tr>\n",
       "    <tr>\n",
       "      <th>1981-01-02</th>\n",
       "      <td>17.9</td>\n",
       "    </tr>\n",
       "    <tr>\n",
       "      <th>1981-01-03</th>\n",
       "      <td>18.8</td>\n",
       "    </tr>\n",
       "    <tr>\n",
       "      <th>1981-01-04</th>\n",
       "      <td>14.6</td>\n",
       "    </tr>\n",
       "    <tr>\n",
       "      <th>1981-01-05</th>\n",
       "      <td>15.8</td>\n",
       "    </tr>\n",
       "  </tbody>\n",
       "</table>\n",
       "</div>"
      ],
      "text/plain": [
       "            Temp\n",
       "Date            \n",
       "1981-01-01  20.7\n",
       "1981-01-02  17.9\n",
       "1981-01-03  18.8\n",
       "1981-01-04  14.6\n",
       "1981-01-05  15.8"
      ]
     },
     "execution_count": 15,
     "metadata": {},
     "output_type": "execute_result"
    }
   ],
   "source": [
    "tseries.head()"
   ]
  },
  {
   "cell_type": "code",
   "execution_count": 16,
   "id": "b15ef478-5f1c-4407-8fd1-a1819dd6b532",
   "metadata": {
    "ExecuteTime": {
     "end_time": "2024-02-24T07:46:27.535255Z",
     "start_time": "2024-02-24T07:46:27.521250Z"
    }
   },
   "outputs": [
    {
     "data": {
      "text/html": [
       "<div>\n",
       "<style scoped>\n",
       "    .dataframe tbody tr th:only-of-type {\n",
       "        vertical-align: middle;\n",
       "    }\n",
       "\n",
       "    .dataframe tbody tr th {\n",
       "        vertical-align: top;\n",
       "    }\n",
       "\n",
       "    .dataframe thead th {\n",
       "        text-align: right;\n",
       "    }\n",
       "</style>\n",
       "<table border=\"1\" class=\"dataframe\">\n",
       "  <thead>\n",
       "    <tr style=\"text-align: right;\">\n",
       "      <th></th>\n",
       "      <th>min</th>\n",
       "      <th>mean</th>\n",
       "      <th>max</th>\n",
       "      <th>t+1</th>\n",
       "      <th>min_roll</th>\n",
       "      <th>mean_roll</th>\n",
       "      <th>max_roll</th>\n",
       "    </tr>\n",
       "  </thead>\n",
       "  <tbody>\n",
       "    <tr>\n",
       "      <th>0</th>\n",
       "      <td>20.7</td>\n",
       "      <td>20.700000</td>\n",
       "      <td>20.7</td>\n",
       "      <td>17.9</td>\n",
       "      <td>NaN</td>\n",
       "      <td>NaN</td>\n",
       "      <td>NaN</td>\n",
       "    </tr>\n",
       "    <tr>\n",
       "      <th>1</th>\n",
       "      <td>17.9</td>\n",
       "      <td>19.300000</td>\n",
       "      <td>20.7</td>\n",
       "      <td>18.8</td>\n",
       "      <td>NaN</td>\n",
       "      <td>NaN</td>\n",
       "      <td>NaN</td>\n",
       "    </tr>\n",
       "    <tr>\n",
       "      <th>2</th>\n",
       "      <td>17.9</td>\n",
       "      <td>19.133333</td>\n",
       "      <td>20.7</td>\n",
       "      <td>14.6</td>\n",
       "      <td>17.9</td>\n",
       "      <td>19.133333</td>\n",
       "      <td>20.7</td>\n",
       "    </tr>\n",
       "    <tr>\n",
       "      <th>3</th>\n",
       "      <td>14.6</td>\n",
       "      <td>18.000000</td>\n",
       "      <td>20.7</td>\n",
       "      <td>15.8</td>\n",
       "      <td>14.6</td>\n",
       "      <td>17.100000</td>\n",
       "      <td>18.8</td>\n",
       "    </tr>\n",
       "    <tr>\n",
       "      <th>4</th>\n",
       "      <td>14.6</td>\n",
       "      <td>17.560000</td>\n",
       "      <td>20.7</td>\n",
       "      <td>15.8</td>\n",
       "      <td>14.6</td>\n",
       "      <td>16.400000</td>\n",
       "      <td>18.8</td>\n",
       "    </tr>\n",
       "  </tbody>\n",
       "</table>\n",
       "</div>"
      ],
      "text/plain": [
       "    min       mean   max   t+1  min_roll  mean_roll  max_roll\n",
       "0  20.7  20.700000  20.7  17.9       NaN        NaN       NaN\n",
       "1  17.9  19.300000  20.7  18.8       NaN        NaN       NaN\n",
       "2  17.9  19.133333  20.7  14.6      17.9  19.133333      20.7\n",
       "3  14.6  18.000000  20.7  15.8      14.6  17.100000      18.8\n",
       "4  14.6  17.560000  20.7  15.8      14.6  16.400000      18.8"
      ]
     },
     "execution_count": 16,
     "metadata": {},
     "output_type": "execute_result"
    }
   ],
   "source": [
    "df.head()"
   ]
  },
  {
   "cell_type": "markdown",
   "id": "206e75f5-ae0c-4714-a201-4a1f87d70e2f",
   "metadata": {},
   "source": [
    "#### Dickey Fuller Test"
   ]
  },
  {
   "cell_type": "code",
   "execution_count": 17,
   "id": "c7a3c368-99e2-4063-8892-a90e90b60cc2",
   "metadata": {
    "ExecuteTime": {
     "end_time": "2024-02-24T07:46:28.185129Z",
     "start_time": "2024-02-24T07:46:27.536898Z"
    }
   },
   "outputs": [],
   "source": [
    "import pandas as pd\n",
    "import numpy as np\n",
    "import matplotlib.pyplot as plt\n",
    "import seaborn as sns"
   ]
  },
  {
   "cell_type": "code",
   "execution_count": 18,
   "id": "0c1160b1-274c-4f8d-ae79-18cb45ec6a93",
   "metadata": {
    "ExecuteTime": {
     "end_time": "2024-02-24T07:46:28.304823Z",
     "start_time": "2024-02-24T07:46:28.187520Z"
    }
   },
   "outputs": [],
   "source": [
    "from statsmodels.tsa.stattools import adfuller\n",
    "df=pd.read_csv(\"Temperature_csv1.csv\")"
   ]
  },
  {
   "cell_type": "code",
   "execution_count": 19,
   "id": "5975c47a-dddc-4c89-8fb4-e3d6343b287a",
   "metadata": {
    "ExecuteTime": {
     "end_time": "2024-02-24T07:46:28.320735Z",
     "start_time": "2024-02-24T07:46:28.305841Z"
    }
   },
   "outputs": [
    {
     "data": {
      "text/html": [
       "<div>\n",
       "<style scoped>\n",
       "    .dataframe tbody tr th:only-of-type {\n",
       "        vertical-align: middle;\n",
       "    }\n",
       "\n",
       "    .dataframe tbody tr th {\n",
       "        vertical-align: top;\n",
       "    }\n",
       "\n",
       "    .dataframe thead th {\n",
       "        text-align: right;\n",
       "    }\n",
       "</style>\n",
       "<table border=\"1\" class=\"dataframe\">\n",
       "  <thead>\n",
       "    <tr style=\"text-align: right;\">\n",
       "      <th></th>\n",
       "      <th>Unnamed: 0</th>\n",
       "      <th>AverageTemperature</th>\n",
       "    </tr>\n",
       "  </thead>\n",
       "  <tbody>\n",
       "    <tr>\n",
       "      <th>0</th>\n",
       "      <td>1920-01-01</td>\n",
       "      <td>20.683</td>\n",
       "    </tr>\n",
       "    <tr>\n",
       "      <th>1</th>\n",
       "      <td>1919-12-31</td>\n",
       "      <td>16.879</td>\n",
       "    </tr>\n",
       "    <tr>\n",
       "      <th>2</th>\n",
       "      <td>1919-12-30</td>\n",
       "      <td>9.787</td>\n",
       "    </tr>\n",
       "    <tr>\n",
       "      <th>3</th>\n",
       "      <td>1919-12-29</td>\n",
       "      <td>3.184</td>\n",
       "    </tr>\n",
       "    <tr>\n",
       "      <th>4</th>\n",
       "      <td>1919-12-28</td>\n",
       "      <td>-2.781</td>\n",
       "    </tr>\n",
       "  </tbody>\n",
       "</table>\n",
       "</div>"
      ],
      "text/plain": [
       "   Unnamed: 0  AverageTemperature\n",
       "0  1920-01-01              20.683\n",
       "1  1919-12-31              16.879\n",
       "2  1919-12-30               9.787\n",
       "3  1919-12-29               3.184\n",
       "4  1919-12-28              -2.781"
      ]
     },
     "execution_count": 19,
     "metadata": {},
     "output_type": "execute_result"
    }
   ],
   "source": [
    "df.head()"
   ]
  },
  {
   "cell_type": "code",
   "execution_count": 20,
   "id": "1a042f27-1901-4ad2-abae-ecded440066a",
   "metadata": {
    "ExecuteTime": {
     "end_time": "2024-02-24T07:46:28.331108Z",
     "start_time": "2024-02-24T07:46:28.322265Z"
    }
   },
   "outputs": [],
   "source": [
    "df.columns = ['time','AverageTemperature']\n"
   ]
  },
  {
   "cell_type": "code",
   "execution_count": 21,
   "id": "b3da9dc5-6a89-4e50-baec-5e92d54c7a66",
   "metadata": {
    "ExecuteTime": {
     "end_time": "2024-02-24T07:46:28.352696Z",
     "start_time": "2024-02-24T07:46:28.331108Z"
    }
   },
   "outputs": [],
   "source": [
    "df['time'] = pd.to_datetime(df.time, format= \"%Y-%m-%d\")\n",
    "df = df.sort_values(['time'], ascending=False)"
   ]
  },
  {
   "cell_type": "code",
   "execution_count": 22,
   "id": "d4c157d7-7e29-4cd0-9366-b5f08583a600",
   "metadata": {
    "ExecuteTime": {
     "end_time": "2024-02-24T07:46:28.366255Z",
     "start_time": "2024-02-24T07:46:28.354247Z"
    }
   },
   "outputs": [],
   "source": [
    "df1 = df.set_index('time')"
   ]
  },
  {
   "cell_type": "code",
   "execution_count": 23,
   "id": "7eb3b440-c863-487d-b29f-7b9123ac2417",
   "metadata": {
    "ExecuteTime": {
     "end_time": "2024-02-24T07:46:28.387624Z",
     "start_time": "2024-02-24T07:46:28.371484Z"
    }
   },
   "outputs": [
    {
     "data": {
      "text/plain": [
       "(2127, 1)"
      ]
     },
     "execution_count": 23,
     "metadata": {},
     "output_type": "execute_result"
    }
   ],
   "source": [
    "df1.shape"
   ]
  },
  {
   "cell_type": "code",
   "execution_count": 24,
   "id": "84a9de41-b4a1-4a12-b478-fa1de29b8b39",
   "metadata": {
    "ExecuteTime": {
     "end_time": "2024-02-24T07:46:28.403378Z",
     "start_time": "2024-02-24T07:46:28.387715Z"
    }
   },
   "outputs": [
    {
     "data": {
      "text/html": [
       "<div>\n",
       "<style scoped>\n",
       "    .dataframe tbody tr th:only-of-type {\n",
       "        vertical-align: middle;\n",
       "    }\n",
       "\n",
       "    .dataframe tbody tr th {\n",
       "        vertical-align: top;\n",
       "    }\n",
       "\n",
       "    .dataframe thead th {\n",
       "        text-align: right;\n",
       "    }\n",
       "</style>\n",
       "<table border=\"1\" class=\"dataframe\">\n",
       "  <thead>\n",
       "    <tr style=\"text-align: right;\">\n",
       "      <th></th>\n",
       "      <th>AverageTemperature</th>\n",
       "    </tr>\n",
       "    <tr>\n",
       "      <th>time</th>\n",
       "      <th></th>\n",
       "    </tr>\n",
       "  </thead>\n",
       "  <tbody>\n",
       "    <tr>\n",
       "      <th>1920-01-01</th>\n",
       "      <td>20.683</td>\n",
       "    </tr>\n",
       "    <tr>\n",
       "      <th>1919-12-31</th>\n",
       "      <td>16.879</td>\n",
       "    </tr>\n",
       "    <tr>\n",
       "      <th>1919-12-30</th>\n",
       "      <td>9.787</td>\n",
       "    </tr>\n",
       "    <tr>\n",
       "      <th>1919-12-29</th>\n",
       "      <td>3.184</td>\n",
       "    </tr>\n",
       "    <tr>\n",
       "      <th>1919-12-28</th>\n",
       "      <td>-2.781</td>\n",
       "    </tr>\n",
       "  </tbody>\n",
       "</table>\n",
       "</div>"
      ],
      "text/plain": [
       "            AverageTemperature\n",
       "time                          \n",
       "1920-01-01              20.683\n",
       "1919-12-31              16.879\n",
       "1919-12-30               9.787\n",
       "1919-12-29               3.184\n",
       "1919-12-28              -2.781"
      ]
     },
     "execution_count": 24,
     "metadata": {},
     "output_type": "execute_result"
    }
   ],
   "source": [
    "df1.head()"
   ]
  },
  {
   "cell_type": "code",
   "execution_count": 25,
   "id": "700dcd6b-eb0f-4539-8933-482514f6b709",
   "metadata": {
    "ExecuteTime": {
     "end_time": "2024-02-24T07:46:28.420444Z",
     "start_time": "2024-02-24T07:46:28.404865Z"
    }
   },
   "outputs": [
    {
     "data": {
      "text/plain": [
       "0"
      ]
     },
     "execution_count": 25,
     "metadata": {},
     "output_type": "execute_result"
    }
   ],
   "source": [
    "df1.index.duplicated().sum()"
   ]
  },
  {
   "cell_type": "code",
   "execution_count": 26,
   "id": "7058ecd1-c242-4d5a-a4d5-e157a1557c94",
   "metadata": {
    "ExecuteTime": {
     "end_time": "2024-02-24T07:46:28.436174Z",
     "start_time": "2024-02-24T07:46:28.421126Z"
    }
   },
   "outputs": [
    {
     "data": {
      "text/plain": [
       "AverageTemperature    0\n",
       "dtype: int64"
      ]
     },
     "execution_count": 26,
     "metadata": {},
     "output_type": "execute_result"
    }
   ],
   "source": [
    "df1.isnull().sum()"
   ]
  },
  {
   "cell_type": "code",
   "execution_count": 27,
   "id": "c8326100-f2f9-4498-a954-c435fd17194e",
   "metadata": {
    "ExecuteTime": {
     "end_time": "2024-02-24T07:46:28.704257Z",
     "start_time": "2024-02-24T07:46:28.438144Z"
    }
   },
   "outputs": [
    {
     "data": {
      "image/png": "[encoded data removed]",
      "text/plain": [
       "<Figure size 1080x432 with 1 Axes>"
      ]
     },
     "metadata": {
      "needs_background": "light"
     },
     "output_type": "display_data"
    }
   ],
   "source": [
    "fig=plt.figure(figsize=(15,6))\n",
    "sns.lineplot(data=df1,x='time',y='AverageTemperature')\n",
    "plt.tick_params(\n",
    "    axis='x',        \n",
    "    which='both',   \n",
    "    bottom=False,      \n",
    "    top=False,        \n",
    "    labelbottom=False) \n",
    "plt.show()"
   ]
  },
  {
   "cell_type": "code",
   "execution_count": 28,
   "id": "83b299ca-1784-4ecf-b912-97e738737495",
   "metadata": {
    "ExecuteTime": {
     "end_time": "2024-02-24T07:46:28.719923Z",
     "start_time": "2024-02-24T07:46:28.704374Z"
    }
   },
   "outputs": [
    {
     "data": {
      "text/plain": [
       "AverageTemperature    0\n",
       "dtype: int64"
      ]
     },
     "execution_count": 28,
     "metadata": {},
     "output_type": "execute_result"
    }
   ],
   "source": [
    "df1.isnull().sum()"
   ]
  },
  {
   "cell_type": "code",
   "execution_count": 29,
   "id": "56ebc5ab-0bd0-48a4-8a9a-29eff820b4a4",
   "metadata": {
    "ExecuteTime": {
     "end_time": "2024-02-24T07:46:28.837110Z",
     "start_time": "2024-02-24T07:46:28.721615Z"
    }
   },
   "outputs": [],
   "source": [
    "## Dickey fuller test\n",
    "result = adfuller(df1['AverageTemperature'])"
   ]
  },
  {
   "cell_type": "code",
   "execution_count": 30,
   "id": "5309c020-dc1d-4b0b-bfa0-fcbc44952491",
   "metadata": {
    "ExecuteTime": {
     "end_time": "2024-02-24T07:46:28.851745Z",
     "start_time": "2024-02-24T07:46:28.839288Z"
    }
   },
   "outputs": [
    {
     "data": {
      "text/plain": [
       "(-0.9389469070545453,\n",
       " 0.7748763052215997,\n",
       " 26,\n",
       " 2100,\n",
       " {'1%': -3.43346776730731,\n",
       "  '5%': -2.8629172977475434,\n",
       "  '10%': -2.567503208390023},\n",
       " 7129.040078832528)"
      ]
     },
     "execution_count": 30,
     "metadata": {},
     "output_type": "execute_result"
    }
   ],
   "source": [
    "result"
   ]
  },
  {
   "cell_type": "code",
   "execution_count": 31,
   "id": "4f3be4a7-016d-4500-a544-972559dad949",
   "metadata": {
    "ExecuteTime": {
     "end_time": "2024-02-24T07:46:28.870617Z",
     "start_time": "2024-02-24T07:46:28.853839Z"
    }
   },
   "outputs": [],
   "source": [
    "def printit(result):\n",
    "    print('Test Statistic: %f' %result[0])\n",
    "    print('p-value: %f' %result[1])\n",
    "    print('Critical values:')\n",
    "    for key, value in result[4].items ():\n",
    "         print('\\t%s: %.3f' %(key, value))"
   ]
  },
  {
   "cell_type": "code",
   "execution_count": 32,
   "id": "fe7f3607-7307-4d5b-8daa-b051b17ff89e",
   "metadata": {
    "ExecuteTime": {
     "end_time": "2024-02-24T07:46:28.887022Z",
     "start_time": "2024-02-24T07:46:28.871358Z"
    }
   },
   "outputs": [
    {
     "name": "stdout",
     "output_type": "stream",
     "text": [
      "Test Statistic: -0.938947\n",
      "p-value: 0.774876\n",
      "Critical values:\n",
      "\t1%: -3.433\n",
      "\t5%: -2.863\n",
      "\t10%: -2.568\n"
     ]
    }
   ],
   "source": [
    "printit(result)"
   ]
  },
  {
   "cell_type": "code",
   "execution_count": 33,
   "id": "3e8b14c0-4ed1-4334-83e7-b7937eef2f9e",
   "metadata": {
    "ExecuteTime": {
     "end_time": "2024-02-24T07:46:28.898248Z",
     "start_time": "2024-02-24T07:46:28.889276Z"
    }
   },
   "outputs": [
    {
     "data": {
      "text/html": [
       "<div>\n",
       "<style scoped>\n",
       "    .dataframe tbody tr th:only-of-type {\n",
       "        vertical-align: middle;\n",
       "    }\n",
       "\n",
       "    .dataframe tbody tr th {\n",
       "        vertical-align: top;\n",
       "    }\n",
       "\n",
       "    .dataframe thead th {\n",
       "        text-align: right;\n",
       "    }\n",
       "</style>\n",
       "<table border=\"1\" class=\"dataframe\">\n",
       "  <thead>\n",
       "    <tr style=\"text-align: right;\">\n",
       "      <th></th>\n",
       "      <th>AverageTemperature</th>\n",
       "    </tr>\n",
       "    <tr>\n",
       "      <th>time</th>\n",
       "      <th></th>\n",
       "    </tr>\n",
       "  </thead>\n",
       "  <tbody>\n",
       "    <tr>\n",
       "      <th>1920-01-01</th>\n",
       "      <td>20.683</td>\n",
       "    </tr>\n",
       "    <tr>\n",
       "      <th>1919-12-31</th>\n",
       "      <td>16.879</td>\n",
       "    </tr>\n",
       "    <tr>\n",
       "      <th>1919-12-30</th>\n",
       "      <td>9.787</td>\n",
       "    </tr>\n",
       "    <tr>\n",
       "      <th>1919-12-29</th>\n",
       "      <td>3.184</td>\n",
       "    </tr>\n",
       "    <tr>\n",
       "      <th>1919-12-28</th>\n",
       "      <td>-2.781</td>\n",
       "    </tr>\n",
       "  </tbody>\n",
       "</table>\n",
       "</div>"
      ],
      "text/plain": [
       "            AverageTemperature\n",
       "time                          \n",
       "1920-01-01              20.683\n",
       "1919-12-31              16.879\n",
       "1919-12-30               9.787\n",
       "1919-12-29               3.184\n",
       "1919-12-28              -2.781"
      ]
     },
     "execution_count": 33,
     "metadata": {},
     "output_type": "execute_result"
    }
   ],
   "source": [
    "df1.head()"
   ]
  },
  {
   "cell_type": "code",
   "execution_count": 61,
   "id": "0bb1f7ef",
   "metadata": {
    "ExecuteTime": {
     "end_time": "2024-02-24T09:56:49.393225Z",
     "start_time": "2024-02-24T09:56:49.381710Z"
    }
   },
   "outputs": [
    {
     "data": {
      "text/html": [
       "<div>\n",
       "<style scoped>\n",
       "    .dataframe tbody tr th:only-of-type {\n",
       "        vertical-align: middle;\n",
       "    }\n",
       "\n",
       "    .dataframe tbody tr th {\n",
       "        vertical-align: top;\n",
       "    }\n",
       "\n",
       "    .dataframe thead th {\n",
       "        text-align: right;\n",
       "    }\n",
       "</style>\n",
       "<table border=\"1\" class=\"dataframe\">\n",
       "  <thead>\n",
       "    <tr style=\"text-align: right;\">\n",
       "      <th></th>\n",
       "      <th>AverageTemperature</th>\n",
       "      <th>AverageTemperature</th>\n",
       "      <th>AverageTemperature</th>\n",
       "    </tr>\n",
       "    <tr>\n",
       "      <th>time</th>\n",
       "      <th></th>\n",
       "      <th></th>\n",
       "      <th></th>\n",
       "    </tr>\n",
       "  </thead>\n",
       "  <tbody>\n",
       "    <tr>\n",
       "      <th>1920-01-01</th>\n",
       "      <td>20.683</td>\n",
       "      <td>NaN</td>\n",
       "      <td>NaN</td>\n",
       "    </tr>\n",
       "    <tr>\n",
       "      <th>1919-12-31</th>\n",
       "      <td>16.879</td>\n",
       "      <td>20.683</td>\n",
       "      <td>-3.804</td>\n",
       "    </tr>\n",
       "    <tr>\n",
       "      <th>1919-12-30</th>\n",
       "      <td>9.787</td>\n",
       "      <td>16.879</td>\n",
       "      <td>-7.092</td>\n",
       "    </tr>\n",
       "    <tr>\n",
       "      <th>1919-12-29</th>\n",
       "      <td>3.184</td>\n",
       "      <td>9.787</td>\n",
       "      <td>-6.603</td>\n",
       "    </tr>\n",
       "    <tr>\n",
       "      <th>1919-12-28</th>\n",
       "      <td>-2.781</td>\n",
       "      <td>3.184</td>\n",
       "      <td>-5.965</td>\n",
       "    </tr>\n",
       "  </tbody>\n",
       "</table>\n",
       "</div>"
      ],
      "text/plain": [
       "            AverageTemperature  AverageTemperature  AverageTemperature\n",
       "time                                                                  \n",
       "1920-01-01              20.683                 NaN                 NaN\n",
       "1919-12-31              16.879              20.683              -3.804\n",
       "1919-12-30               9.787              16.879              -7.092\n",
       "1919-12-29               3.184               9.787              -6.603\n",
       "1919-12-28              -2.781               3.184              -5.965"
      ]
     },
     "execution_count": 61,
     "metadata": {},
     "output_type": "execute_result"
    }
   ],
   "source": [
    "pd.concat([df1['AverageTemperature'].shift(0),\n",
    "           df1['AverageTemperature'].shift(1), \n",
    "          df1['AverageTemperature'].shift(0) - df1['AverageTemperature'].shift(1)], axis=1).head()"
   ]
  },
  {
   "cell_type": "code",
   "execution_count": 62,
   "id": "b9839eb5-1f3a-492f-bd80-752444d25cb3",
   "metadata": {
    "ExecuteTime": {
     "end_time": "2024-02-24T09:56:53.677601Z",
     "start_time": "2024-02-24T09:56:53.669033Z"
    }
   },
   "outputs": [
    {
     "data": {
      "text/html": [
       "<div>\n",
       "<style scoped>\n",
       "    .dataframe tbody tr th:only-of-type {\n",
       "        vertical-align: middle;\n",
       "    }\n",
       "\n",
       "    .dataframe tbody tr th {\n",
       "        vertical-align: top;\n",
       "    }\n",
       "\n",
       "    .dataframe thead th {\n",
       "        text-align: right;\n",
       "    }\n",
       "</style>\n",
       "<table border=\"1\" class=\"dataframe\">\n",
       "  <thead>\n",
       "    <tr style=\"text-align: right;\">\n",
       "      <th></th>\n",
       "      <th>AverageTemperature</th>\n",
       "    </tr>\n",
       "    <tr>\n",
       "      <th>time</th>\n",
       "      <th></th>\n",
       "    </tr>\n",
       "  </thead>\n",
       "  <tbody>\n",
       "    <tr>\n",
       "      <th>1920-01-01</th>\n",
       "      <td>NaN</td>\n",
       "    </tr>\n",
       "    <tr>\n",
       "      <th>1919-12-31</th>\n",
       "      <td>-3.804</td>\n",
       "    </tr>\n",
       "    <tr>\n",
       "      <th>1919-12-30</th>\n",
       "      <td>-7.092</td>\n",
       "    </tr>\n",
       "    <tr>\n",
       "      <th>1919-12-29</th>\n",
       "      <td>-6.603</td>\n",
       "    </tr>\n",
       "    <tr>\n",
       "      <th>1919-12-28</th>\n",
       "      <td>-5.965</td>\n",
       "    </tr>\n",
       "  </tbody>\n",
       "</table>\n",
       "</div>"
      ],
      "text/plain": [
       "            AverageTemperature\n",
       "time                          \n",
       "1920-01-01                 NaN\n",
       "1919-12-31              -3.804\n",
       "1919-12-30              -7.092\n",
       "1919-12-29              -6.603\n",
       "1919-12-28              -5.965"
      ]
     },
     "execution_count": 62,
     "metadata": {},
     "output_type": "execute_result"
    }
   ],
   "source": [
    "## lag\n",
    "df1.diff().head()"
   ]
  },
  {
   "cell_type": "code",
   "execution_count": 35,
   "id": "8ff421f4-9725-4528-bc6e-1c7b55415c71",
   "metadata": {
    "ExecuteTime": {
     "end_time": "2024-02-24T07:46:28.919503Z",
     "start_time": "2024-02-24T07:46:28.904498Z"
    }
   },
   "outputs": [],
   "source": [
    "df_diff = df1.diff().dropna()"
   ]
  },
  {
   "cell_type": "code",
   "execution_count": 36,
   "id": "902ca139-8009-44e4-8263-9e40308937d9",
   "metadata": {
    "ExecuteTime": {
     "end_time": "2024-02-24T07:46:28.937863Z",
     "start_time": "2024-02-24T07:46:28.921676Z"
    }
   },
   "outputs": [
    {
     "data": {
      "text/html": [
       "<div>\n",
       "<style scoped>\n",
       "    .dataframe tbody tr th:only-of-type {\n",
       "        vertical-align: middle;\n",
       "    }\n",
       "\n",
       "    .dataframe tbody tr th {\n",
       "        vertical-align: top;\n",
       "    }\n",
       "\n",
       "    .dataframe thead th {\n",
       "        text-align: right;\n",
       "    }\n",
       "</style>\n",
       "<table border=\"1\" class=\"dataframe\">\n",
       "  <thead>\n",
       "    <tr style=\"text-align: right;\">\n",
       "      <th></th>\n",
       "      <th>AverageTemperature</th>\n",
       "    </tr>\n",
       "    <tr>\n",
       "      <th>time</th>\n",
       "      <th></th>\n",
       "    </tr>\n",
       "  </thead>\n",
       "  <tbody>\n",
       "    <tr>\n",
       "      <th>1919-12-31</th>\n",
       "      <td>-3.804</td>\n",
       "    </tr>\n",
       "    <tr>\n",
       "      <th>1919-12-30</th>\n",
       "      <td>-7.092</td>\n",
       "    </tr>\n",
       "    <tr>\n",
       "      <th>1919-12-29</th>\n",
       "      <td>-6.603</td>\n",
       "    </tr>\n",
       "    <tr>\n",
       "      <th>1919-12-28</th>\n",
       "      <td>-5.965</td>\n",
       "    </tr>\n",
       "    <tr>\n",
       "      <th>1919-12-27</th>\n",
       "      <td>1.377</td>\n",
       "    </tr>\n",
       "  </tbody>\n",
       "</table>\n",
       "</div>"
      ],
      "text/plain": [
       "            AverageTemperature\n",
       "time                          \n",
       "1919-12-31              -3.804\n",
       "1919-12-30              -7.092\n",
       "1919-12-29              -6.603\n",
       "1919-12-28              -5.965\n",
       "1919-12-27               1.377"
      ]
     },
     "execution_count": 36,
     "metadata": {},
     "output_type": "execute_result"
    }
   ],
   "source": [
    "df_diff.head()"
   ]
  },
  {
   "cell_type": "code",
   "execution_count": 37,
   "id": "e02dc4dd-5b0f-4136-8a2e-c02d51d91ff9",
   "metadata": {
    "ExecuteTime": {
     "end_time": "2024-02-24T07:46:29.053251Z",
     "start_time": "2024-02-24T07:46:28.937961Z"
    }
   },
   "outputs": [],
   "source": [
    "result=adfuller(df_diff)"
   ]
  },
  {
   "cell_type": "code",
   "execution_count": 38,
   "id": "181c028e-f063-474a-be65-593594ade265",
   "metadata": {
    "ExecuteTime": {
     "end_time": "2024-02-24T07:46:29.071124Z",
     "start_time": "2024-02-24T07:46:29.054956Z"
    }
   },
   "outputs": [
    {
     "name": "stdout",
     "output_type": "stream",
     "text": [
      "Test Statistic: -16.424601\n",
      "p-value: 0.000000\n",
      "Critical values:\n",
      "\t1%: -3.433\n",
      "\t5%: -2.863\n",
      "\t10%: -2.568\n"
     ]
    }
   ],
   "source": [
    "printit(result)"
   ]
  },
  {
   "cell_type": "code",
   "execution_count": 39,
   "id": "492e4eec-423f-4c92-94a5-d25b4d7997b1",
   "metadata": {
    "ExecuteTime": {
     "end_time": "2024-02-24T07:46:29.276769Z",
     "start_time": "2024-02-24T07:46:29.071327Z"
    }
   },
   "outputs": [
    {
     "data": {
      "image/png": "[encoded data removed]",
      "text/plain": [
       "<Figure size 1080x432 with 1 Axes>"
      ]
     },
     "metadata": {
      "needs_background": "light"
     },
     "output_type": "display_data"
    }
   ],
   "source": [
    "fig=plt.figure(figsize=(15,6))\n",
    "sns.lineplot(data=df_diff,x='time',y='AverageTemperature')\n",
    "plt.tick_params(\n",
    "    axis='x',        \n",
    "    which='both',   \n",
    "    bottom=False,      \n",
    "    top=False,        \n",
    "    labelbottom=False) \n",
    "plt.show()"
   ]
  },
  {
   "cell_type": "markdown",
   "id": "e3330d5f-e171-4129-9261-69151a4c96b4",
   "metadata": {},
   "source": [
    "### Forecasting"
   ]
  },
  {
   "cell_type": "code",
   "execution_count": 40,
   "id": "9e6d7f8d",
   "metadata": {
    "ExecuteTime": {
     "end_time": "2024-02-24T07:46:29.288117Z",
     "start_time": "2024-02-24T07:46:29.277720Z"
    }
   },
   "outputs": [],
   "source": [
    "# !pip install pycaret"
   ]
  },
  {
   "cell_type": "code",
   "execution_count": 41,
   "id": "1144aa20-9097-4aa8-9e52-3d43552f0ca8",
   "metadata": {
    "ExecuteTime": {
     "end_time": "2024-02-24T07:46:30.807639Z",
     "start_time": "2024-02-24T07:46:29.289136Z"
    }
   },
   "outputs": [
    {
     "ename": "ImportError",
     "evalue": "cannot import name 'BlockwiseDep' from 'dask.blockwise' (C:\\Users\\Jayanti\\Anaconda3\\lib\\site-packages\\dask\\blockwise.py)\n\nDask dataframe requirements are not installed.\n\nPlease either conda or pip install as follows:\n\n  conda install dask                     # either conda install\n  pip install dask[dataframe] --upgrade  # or pip install",
     "output_type": "error",
     "traceback": [
      "\u001b[1;31m---------------------------------------------------------------------------\u001b[0m",
      "\u001b[1;31mImportError\u001b[0m                               Traceback (most recent call last)",
      "\u001b[1;32m~\\Anaconda3\\lib\\site-packages\\dask\\dataframe\\__init__.py\u001b[0m in \u001b[0;36m<module>\u001b[1;34m\u001b[0m\n\u001b[0;32m     37\u001b[0m     \u001b[1;32mfrom\u001b[0m \u001b[1;33m.\u001b[0m\u001b[0mutils\u001b[0m \u001b[1;32mimport\u001b[0m \u001b[0massert_eq\u001b[0m\u001b[1;33m\u001b[0m\u001b[1;33m\u001b[0m\u001b[0m\n\u001b[1;32m---> 38\u001b[1;33m     \u001b[1;32mfrom\u001b[0m \u001b[1;33m.\u001b[0m\u001b[0mio\u001b[0m\u001b[1;33m.\u001b[0m\u001b[0morc\u001b[0m \u001b[1;32mimport\u001b[0m \u001b[0mread_orc\u001b[0m\u001b[1;33m\u001b[0m\u001b[1;33m\u001b[0m\u001b[0m\n\u001b[0m\u001b[0;32m     39\u001b[0m \u001b[1;33m\u001b[0m\u001b[0m\n",
      "\u001b[1;32m~\\Anaconda3\\lib\\site-packages\\dask\\dataframe\\io\\orc\\__init__.py\u001b[0m in \u001b[0;36m<module>\u001b[1;34m\u001b[0m\n\u001b[1;32m----> 1\u001b[1;33m \u001b[1;32mfrom\u001b[0m \u001b[1;33m.\u001b[0m\u001b[0mcore\u001b[0m \u001b[1;32mimport\u001b[0m \u001b[0mread_orc\u001b[0m\u001b[1;33m,\u001b[0m \u001b[0mto_orc\u001b[0m\u001b[1;33m\u001b[0m\u001b[1;33m\u001b[0m\u001b[0m\n\u001b[0m",
      "\u001b[1;32m~\\Anaconda3\\lib\\site-packages\\dask\\dataframe\\io\\orc\\core.py\u001b[0m in \u001b[0;36m<module>\u001b[1;34m\u001b[0m\n\u001b[0;32m      8\u001b[0m \u001b[1;32mfrom\u001b[0m \u001b[1;33m...\u001b[0m\u001b[1;33m.\u001b[0m\u001b[0mhighlevelgraph\u001b[0m \u001b[1;32mimport\u001b[0m \u001b[0mHighLevelGraph\u001b[0m\u001b[1;33m\u001b[0m\u001b[1;33m\u001b[0m\u001b[0m\n\u001b[1;32m----> 9\u001b[1;33m \u001b[1;32mfrom\u001b[0m \u001b[1;33m...\u001b[0m\u001b[1;33m.\u001b[0m\u001b[0mlayers\u001b[0m \u001b[1;32mimport\u001b[0m \u001b[0mDataFrameIOLayer\u001b[0m\u001b[1;33m\u001b[0m\u001b[1;33m\u001b[0m\u001b[0m\n\u001b[0m\u001b[0;32m     10\u001b[0m \u001b[1;32mfrom\u001b[0m \u001b[1;33m...\u001b[0m\u001b[1;33m.\u001b[0m\u001b[0mutils\u001b[0m \u001b[1;32mimport\u001b[0m \u001b[0mapply\u001b[0m\u001b[1;33m\u001b[0m\u001b[1;33m\u001b[0m\u001b[0m\n",
      "\u001b[1;32m~\\Anaconda3\\lib\\site-packages\\dask\\layers.py\u001b[0m in \u001b[0;36m<module>\u001b[1;34m\u001b[0m\n\u001b[0;32m     13\u001b[0m \u001b[1;32mfrom\u001b[0m \u001b[1;33m.\u001b[0m\u001b[0mbase\u001b[0m \u001b[1;32mimport\u001b[0m \u001b[0mtokenize\u001b[0m\u001b[1;33m\u001b[0m\u001b[1;33m\u001b[0m\u001b[0m\n\u001b[1;32m---> 14\u001b[1;33m \u001b[1;32mfrom\u001b[0m \u001b[1;33m.\u001b[0m\u001b[0mblockwise\u001b[0m \u001b[1;32mimport\u001b[0m \u001b[0mBlockwise\u001b[0m\u001b[1;33m,\u001b[0m \u001b[0mBlockwiseDep\u001b[0m\u001b[1;33m,\u001b[0m \u001b[0mBlockwiseDepDict\u001b[0m\u001b[1;33m,\u001b[0m \u001b[0mblockwise_token\u001b[0m\u001b[1;33m\u001b[0m\u001b[1;33m\u001b[0m\u001b[0m\n\u001b[0m\u001b[0;32m     15\u001b[0m \u001b[1;32mfrom\u001b[0m \u001b[1;33m.\u001b[0m\u001b[0mcore\u001b[0m \u001b[1;32mimport\u001b[0m \u001b[0mflatten\u001b[0m\u001b[1;33m,\u001b[0m \u001b[0mkeys_in_tasks\u001b[0m\u001b[1;33m\u001b[0m\u001b[1;33m\u001b[0m\u001b[0m\n",
      "\u001b[1;31mImportError\u001b[0m: cannot import name 'BlockwiseDep' from 'dask.blockwise' (C:\\Users\\Jayanti\\Anaconda3\\lib\\site-packages\\dask\\blockwise.py)",
      "\nDuring handling of the above exception, another exception occurred:\n",
      "\u001b[1;31mImportError\u001b[0m                               Traceback (most recent call last)",
      "\u001b[1;32m<ipython-input-41-df6f1b62a54d>\u001b[0m in \u001b[0;36m<module>\u001b[1;34m\u001b[0m\n\u001b[0;32m      2\u001b[0m \u001b[1;32mimport\u001b[0m \u001b[0mpandas\u001b[0m \u001b[1;32mas\u001b[0m \u001b[0mpd\u001b[0m\u001b[1;33m\u001b[0m\u001b[1;33m\u001b[0m\u001b[0m\n\u001b[0;32m      3\u001b[0m \u001b[1;32mimport\u001b[0m \u001b[0mdatetime\u001b[0m\u001b[1;33m\u001b[0m\u001b[1;33m\u001b[0m\u001b[0m\n\u001b[1;32m----> 4\u001b[1;33m \u001b[1;32mfrom\u001b[0m \u001b[0mpycaret\u001b[0m\u001b[1;33m.\u001b[0m\u001b[0mtime_series\u001b[0m \u001b[1;32mimport\u001b[0m \u001b[0mTSForecastingExperiment\u001b[0m\u001b[1;33m\u001b[0m\u001b[1;33m\u001b[0m\u001b[0m\n\u001b[0m\u001b[0;32m      5\u001b[0m \u001b[1;32mfrom\u001b[0m \u001b[0msktime\u001b[0m\u001b[1;33m.\u001b[0m\u001b[0mforecasting\u001b[0m\u001b[1;33m.\u001b[0m\u001b[0mbase\u001b[0m \u001b[1;32mimport\u001b[0m \u001b[0mForecastingHorizon\u001b[0m\u001b[1;33m\u001b[0m\u001b[1;33m\u001b[0m\u001b[0m\n",
      "\u001b[1;32m~\\Anaconda3\\lib\\site-packages\\pycaret\\time_series\\__init__.py\u001b[0m in \u001b[0;36m<module>\u001b[1;34m\u001b[0m\n\u001b[1;32m----> 1\u001b[1;33m from pycaret.time_series.forecasting.functional import (\n\u001b[0m\u001b[0;32m      2\u001b[0m     \u001b[0madd_metric\u001b[0m\u001b[1;33m,\u001b[0m\u001b[1;33m\u001b[0m\u001b[1;33m\u001b[0m\u001b[0m\n\u001b[0;32m      3\u001b[0m     \u001b[0mblend_models\u001b[0m\u001b[1;33m,\u001b[0m\u001b[1;33m\u001b[0m\u001b[1;33m\u001b[0m\u001b[0m\n\u001b[0;32m      4\u001b[0m     \u001b[0mcheck_stats\u001b[0m\u001b[1;33m,\u001b[0m\u001b[1;33m\u001b[0m\u001b[1;33m\u001b[0m\u001b[0m\n\u001b[0;32m      5\u001b[0m     \u001b[0mcompare_models\u001b[0m\u001b[1;33m,\u001b[0m\u001b[1;33m\u001b[0m\u001b[1;33m\u001b[0m\u001b[0m\n",
      "\u001b[1;32m~\\Anaconda3\\lib\\site-packages\\pycaret\\time_series\\forecasting\\functional.py\u001b[0m in \u001b[0;36m<module>\u001b[1;34m\u001b[0m\n\u001b[0;32m     20\u001b[0m \u001b[1;33m\u001b[0m\u001b[0m\n\u001b[0;32m     21\u001b[0m \u001b[1;32mfrom\u001b[0m \u001b[0mpycaret\u001b[0m\u001b[1;33m.\u001b[0m\u001b[0minternal\u001b[0m\u001b[1;33m.\u001b[0m\u001b[0mparallel\u001b[0m\u001b[1;33m.\u001b[0m\u001b[0mparallel_backend\u001b[0m \u001b[1;32mimport\u001b[0m \u001b[0mParallelBackend\u001b[0m\u001b[1;33m\u001b[0m\u001b[1;33m\u001b[0m\u001b[0m\n\u001b[1;32m---> 22\u001b[1;33m \u001b[1;32mfrom\u001b[0m \u001b[0mpycaret\u001b[0m\u001b[1;33m.\u001b[0m\u001b[0mtime_series\u001b[0m\u001b[1;33m.\u001b[0m\u001b[0mforecasting\u001b[0m\u001b[1;33m.\u001b[0m\u001b[0moop\u001b[0m \u001b[1;32mimport\u001b[0m \u001b[0mTSForecastingExperiment\u001b[0m\u001b[1;33m\u001b[0m\u001b[1;33m\u001b[0m\u001b[0m\n\u001b[0m\u001b[0;32m     23\u001b[0m \u001b[1;32mfrom\u001b[0m \u001b[0mpycaret\u001b[0m\u001b[1;33m.\u001b[0m\u001b[0mutils\u001b[0m\u001b[1;33m.\u001b[0m\u001b[0mgeneric\u001b[0m \u001b[1;32mimport\u001b[0m \u001b[0mcheck_if_global_is_not_none\u001b[0m\u001b[1;33m\u001b[0m\u001b[1;33m\u001b[0m\u001b[0m\n\u001b[0;32m     24\u001b[0m \u001b[1;33m\u001b[0m\u001b[0m\n",
      "\u001b[1;32m~\\Anaconda3\\lib\\site-packages\\pycaret\\time_series\\forecasting\\oop.py\u001b[0m in \u001b[0;36m<module>\u001b[1;34m\u001b[0m\n\u001b[0;32m     16\u001b[0m \u001b[1;32mfrom\u001b[0m \u001b[0mplotly_resampler\u001b[0m \u001b[1;32mimport\u001b[0m \u001b[0mFigureResampler\u001b[0m\u001b[1;33m,\u001b[0m \u001b[0mFigureWidgetResampler\u001b[0m\u001b[1;33m\u001b[0m\u001b[1;33m\u001b[0m\u001b[0m\n\u001b[0;32m     17\u001b[0m \u001b[1;32mfrom\u001b[0m \u001b[0msklearn\u001b[0m\u001b[1;33m.\u001b[0m\u001b[0mbase\u001b[0m \u001b[1;32mimport\u001b[0m \u001b[0mclone\u001b[0m\u001b[1;33m\u001b[0m\u001b[1;33m\u001b[0m\u001b[0m\n\u001b[1;32m---> 18\u001b[1;33m \u001b[1;32mfrom\u001b[0m \u001b[0msktime\u001b[0m\u001b[1;33m.\u001b[0m\u001b[0mforecasting\u001b[0m\u001b[1;33m.\u001b[0m\u001b[0mbase\u001b[0m \u001b[1;32mimport\u001b[0m \u001b[0mBaseForecaster\u001b[0m\u001b[1;33m,\u001b[0m \u001b[0mForecastingHorizon\u001b[0m\u001b[1;33m\u001b[0m\u001b[1;33m\u001b[0m\u001b[0m\n\u001b[0m\u001b[0;32m     19\u001b[0m \u001b[1;32mfrom\u001b[0m \u001b[0msktime\u001b[0m\u001b[1;33m.\u001b[0m\u001b[0mforecasting\u001b[0m\u001b[1;33m.\u001b[0m\u001b[0mcompose\u001b[0m \u001b[1;32mimport\u001b[0m \u001b[0mForecastingPipeline\u001b[0m\u001b[1;33m,\u001b[0m \u001b[0mTransformedTargetForecaster\u001b[0m\u001b[1;33m\u001b[0m\u001b[1;33m\u001b[0m\u001b[0m\n\u001b[0;32m     20\u001b[0m from sktime.forecasting.model_selection import (\n",
      "\u001b[1;32m~\\Anaconda3\\lib\\site-packages\\sktime\\forecasting\\base\\__init__.py\u001b[0m in \u001b[0;36m<module>\u001b[1;34m\u001b[0m\n\u001b[0;32m      9\u001b[0m ]\n\u001b[0;32m     10\u001b[0m \u001b[1;33m\u001b[0m\u001b[0m\n\u001b[1;32m---> 11\u001b[1;33m \u001b[1;32mfrom\u001b[0m \u001b[0msktime\u001b[0m\u001b[1;33m.\u001b[0m\u001b[0mforecasting\u001b[0m\u001b[1;33m.\u001b[0m\u001b[0mbase\u001b[0m\u001b[1;33m.\u001b[0m\u001b[0m_base\u001b[0m \u001b[1;32mimport\u001b[0m \u001b[0mBaseForecaster\u001b[0m\u001b[1;33m\u001b[0m\u001b[1;33m\u001b[0m\u001b[0m\n\u001b[0m\u001b[0;32m     12\u001b[0m \u001b[1;32mfrom\u001b[0m \u001b[0msktime\u001b[0m\u001b[1;33m.\u001b[0m\u001b[0mforecasting\u001b[0m\u001b[1;33m.\u001b[0m\u001b[0mbase\u001b[0m\u001b[1;33m.\u001b[0m\u001b[0m_fh\u001b[0m \u001b[1;32mimport\u001b[0m \u001b[0mForecastingHorizon\u001b[0m\u001b[1;33m\u001b[0m\u001b[1;33m\u001b[0m\u001b[0m\n",
      "\u001b[1;32m~\\Anaconda3\\lib\\site-packages\\sktime\\forecasting\\base\\_base.py\u001b[0m in \u001b[0;36m<module>\u001b[1;34m\u001b[0m\n\u001b[0;32m     46\u001b[0m \u001b[1;33m\u001b[0m\u001b[0m\n\u001b[0;32m     47\u001b[0m \u001b[1;32mfrom\u001b[0m \u001b[0msktime\u001b[0m\u001b[1;33m.\u001b[0m\u001b[0mbase\u001b[0m \u001b[1;32mimport\u001b[0m \u001b[0mBaseEstimator\u001b[0m\u001b[1;33m\u001b[0m\u001b[1;33m\u001b[0m\u001b[0m\n\u001b[1;32m---> 48\u001b[1;33m from sktime.datatypes import (\n\u001b[0m\u001b[0;32m     49\u001b[0m     \u001b[0mVectorizedDF\u001b[0m\u001b[1;33m,\u001b[0m\u001b[1;33m\u001b[0m\u001b[1;33m\u001b[0m\u001b[0m\n\u001b[0;32m     50\u001b[0m     \u001b[0mcheck_is_scitype\u001b[0m\u001b[1;33m,\u001b[0m\u001b[1;33m\u001b[0m\u001b[1;33m\u001b[0m\u001b[0m\n",
      "\u001b[1;32m~\\Anaconda3\\lib\\site-packages\\sktime\\datatypes\\__init__.py\u001b[0m in \u001b[0;36m<module>\u001b[1;34m\u001b[0m\n\u001b[0;32m      4\u001b[0m \u001b[0m__author__\u001b[0m \u001b[1;33m=\u001b[0m \u001b[1;33m[\u001b[0m\u001b[1;34m\"fkiraly\"\u001b[0m\u001b[1;33m]\u001b[0m\u001b[1;33m\u001b[0m\u001b[1;33m\u001b[0m\u001b[0m\n\u001b[0;32m      5\u001b[0m \u001b[1;33m\u001b[0m\u001b[0m\n\u001b[1;32m----> 6\u001b[1;33m from sktime.datatypes._check import (\n\u001b[0m\u001b[0;32m      7\u001b[0m     \u001b[0mcheck_is_mtype\u001b[0m\u001b[1;33m,\u001b[0m\u001b[1;33m\u001b[0m\u001b[1;33m\u001b[0m\u001b[0m\n\u001b[0;32m      8\u001b[0m     \u001b[0mcheck_is_scitype\u001b[0m\u001b[1;33m,\u001b[0m\u001b[1;33m\u001b[0m\u001b[1;33m\u001b[0m\u001b[0m\n",
      "\u001b[1;32m~\\Anaconda3\\lib\\site-packages\\sktime\\datatypes\\_check.py\u001b[0m in \u001b[0;36m<module>\u001b[1;34m\u001b[0m\n\u001b[0;32m     31\u001b[0m \u001b[1;32mfrom\u001b[0m \u001b[0msktime\u001b[0m\u001b[1;33m.\u001b[0m\u001b[0mdatatypes\u001b[0m\u001b[1;33m.\u001b[0m\u001b[0m_alignment\u001b[0m \u001b[1;32mimport\u001b[0m \u001b[0mcheck_dict_Alignment\u001b[0m\u001b[1;33m\u001b[0m\u001b[1;33m\u001b[0m\u001b[0m\n\u001b[0;32m     32\u001b[0m \u001b[1;32mfrom\u001b[0m \u001b[0msktime\u001b[0m\u001b[1;33m.\u001b[0m\u001b[0mdatatypes\u001b[0m\u001b[1;33m.\u001b[0m\u001b[0m_common\u001b[0m \u001b[1;32mimport\u001b[0m \u001b[0m_metadata_requested\u001b[0m\u001b[1;33m,\u001b[0m \u001b[0m_ret\u001b[0m\u001b[1;33m\u001b[0m\u001b[1;33m\u001b[0m\u001b[0m\n\u001b[1;32m---> 33\u001b[1;33m \u001b[1;32mfrom\u001b[0m \u001b[0msktime\u001b[0m\u001b[1;33m.\u001b[0m\u001b[0mdatatypes\u001b[0m\u001b[1;33m.\u001b[0m\u001b[0m_hierarchical\u001b[0m \u001b[1;32mimport\u001b[0m \u001b[0mcheck_dict_Hierarchical\u001b[0m\u001b[1;33m\u001b[0m\u001b[1;33m\u001b[0m\u001b[0m\n\u001b[0m\u001b[0;32m     34\u001b[0m \u001b[1;32mfrom\u001b[0m \u001b[0msktime\u001b[0m\u001b[1;33m.\u001b[0m\u001b[0mdatatypes\u001b[0m\u001b[1;33m.\u001b[0m\u001b[0m_panel\u001b[0m \u001b[1;32mimport\u001b[0m \u001b[0mcheck_dict_Panel\u001b[0m\u001b[1;33m\u001b[0m\u001b[1;33m\u001b[0m\u001b[0m\n\u001b[0;32m     35\u001b[0m \u001b[1;32mfrom\u001b[0m \u001b[0msktime\u001b[0m\u001b[1;33m.\u001b[0m\u001b[0mdatatypes\u001b[0m\u001b[1;33m.\u001b[0m\u001b[0m_proba\u001b[0m \u001b[1;32mimport\u001b[0m \u001b[0mcheck_dict_Proba\u001b[0m\u001b[1;33m\u001b[0m\u001b[1;33m\u001b[0m\u001b[0m\n",
      "\u001b[1;32m~\\Anaconda3\\lib\\site-packages\\sktime\\datatypes\\_hierarchical\\__init__.py\u001b[0m in \u001b[0;36m<module>\u001b[1;34m\u001b[0m\n\u001b[0;32m      2\u001b[0m \u001b[1;34m\"\"\"Module exports: Hierarchical type checkers, converters and mtype inference.\"\"\"\u001b[0m\u001b[1;33m\u001b[0m\u001b[1;33m\u001b[0m\u001b[0m\n\u001b[0;32m      3\u001b[0m \u001b[1;33m\u001b[0m\u001b[0m\n\u001b[1;32m----> 4\u001b[1;33m \u001b[1;32mfrom\u001b[0m \u001b[0msktime\u001b[0m\u001b[1;33m.\u001b[0m\u001b[0mdatatypes\u001b[0m\u001b[1;33m.\u001b[0m\u001b[0m_hierarchical\u001b[0m\u001b[1;33m.\u001b[0m\u001b[0m_check\u001b[0m \u001b[1;32mimport\u001b[0m \u001b[0mcheck_dict\u001b[0m \u001b[1;32mas\u001b[0m \u001b[0mcheck_dict_Hierarchical\u001b[0m\u001b[1;33m\u001b[0m\u001b[1;33m\u001b[0m\u001b[0m\n\u001b[0m\u001b[0;32m      5\u001b[0m from sktime.datatypes._hierarchical._convert import (\n\u001b[0;32m      6\u001b[0m     \u001b[0mconvert_dict\u001b[0m \u001b[1;32mas\u001b[0m \u001b[0mconvert_dict_Hierarchical\u001b[0m\u001b[1;33m,\u001b[0m\u001b[1;33m\u001b[0m\u001b[1;33m\u001b[0m\u001b[0m\n",
      "\u001b[1;32m~\\Anaconda3\\lib\\site-packages\\sktime\\datatypes\\_hierarchical\\_check.py\u001b[0m in \u001b[0;36m<module>\u001b[1;34m\u001b[0m\n\u001b[0;32m     46\u001b[0m \u001b[1;32mimport\u001b[0m \u001b[0mnumpy\u001b[0m \u001b[1;32mas\u001b[0m \u001b[0mnp\u001b[0m\u001b[1;33m\u001b[0m\u001b[1;33m\u001b[0m\u001b[0m\n\u001b[0;32m     47\u001b[0m \u001b[1;33m\u001b[0m\u001b[0m\n\u001b[1;32m---> 48\u001b[1;33m \u001b[1;32mfrom\u001b[0m \u001b[0msktime\u001b[0m\u001b[1;33m.\u001b[0m\u001b[0mdatatypes\u001b[0m\u001b[1;33m.\u001b[0m\u001b[0m_panel\u001b[0m\u001b[1;33m.\u001b[0m\u001b[0m_check\u001b[0m \u001b[1;32mimport\u001b[0m \u001b[0mcheck_pdmultiindex_panel\u001b[0m\u001b[1;33m\u001b[0m\u001b[1;33m\u001b[0m\u001b[0m\n\u001b[0m\u001b[0;32m     49\u001b[0m \u001b[1;32mfrom\u001b[0m \u001b[0msktime\u001b[0m\u001b[1;33m.\u001b[0m\u001b[0mutils\u001b[0m\u001b[1;33m.\u001b[0m\u001b[0mvalidation\u001b[0m\u001b[1;33m.\u001b[0m\u001b[0m_dependencies\u001b[0m \u001b[1;32mimport\u001b[0m \u001b[0m_check_soft_dependencies\u001b[0m\u001b[1;33m\u001b[0m\u001b[1;33m\u001b[0m\u001b[0m\n\u001b[0;32m     50\u001b[0m \u001b[1;33m\u001b[0m\u001b[0m\n",
      "\u001b[1;32m~\\Anaconda3\\lib\\site-packages\\sktime\\datatypes\\_panel\\__init__.py\u001b[0m in \u001b[0;36m<module>\u001b[1;34m\u001b[0m\n\u001b[0;32m      2\u001b[0m \u001b[1;34m\"\"\"Module exports: Panel type checkers, converters and mtype inference.\"\"\"\u001b[0m\u001b[1;33m\u001b[0m\u001b[1;33m\u001b[0m\u001b[0m\n\u001b[0;32m      3\u001b[0m \u001b[1;33m\u001b[0m\u001b[0m\n\u001b[1;32m----> 4\u001b[1;33m \u001b[1;32mfrom\u001b[0m \u001b[0msktime\u001b[0m\u001b[1;33m.\u001b[0m\u001b[0mdatatypes\u001b[0m\u001b[1;33m.\u001b[0m\u001b[0m_panel\u001b[0m\u001b[1;33m.\u001b[0m\u001b[0m_check\u001b[0m \u001b[1;32mimport\u001b[0m \u001b[0mcheck_dict\u001b[0m \u001b[1;32mas\u001b[0m \u001b[0mcheck_dict_Panel\u001b[0m\u001b[1;33m\u001b[0m\u001b[1;33m\u001b[0m\u001b[0m\n\u001b[0m\u001b[0;32m      5\u001b[0m \u001b[1;32mfrom\u001b[0m \u001b[0msktime\u001b[0m\u001b[1;33m.\u001b[0m\u001b[0mdatatypes\u001b[0m\u001b[1;33m.\u001b[0m\u001b[0m_panel\u001b[0m\u001b[1;33m.\u001b[0m\u001b[0m_convert\u001b[0m \u001b[1;32mimport\u001b[0m \u001b[0mconvert_dict\u001b[0m \u001b[1;32mas\u001b[0m \u001b[0mconvert_dict_Panel\u001b[0m\u001b[1;33m\u001b[0m\u001b[1;33m\u001b[0m\u001b[0m\n\u001b[0;32m      6\u001b[0m \u001b[1;32mfrom\u001b[0m \u001b[0msktime\u001b[0m\u001b[1;33m.\u001b[0m\u001b[0mdatatypes\u001b[0m\u001b[1;33m.\u001b[0m\u001b[0m_panel\u001b[0m\u001b[1;33m.\u001b[0m\u001b[0m_examples\u001b[0m \u001b[1;32mimport\u001b[0m \u001b[0mexample_dict\u001b[0m \u001b[1;32mas\u001b[0m \u001b[0mexample_dict_Panel\u001b[0m\u001b[1;33m\u001b[0m\u001b[1;33m\u001b[0m\u001b[0m\n",
      "\u001b[1;32m~\\Anaconda3\\lib\\site-packages\\sktime\\datatypes\\_panel\\_check.py\u001b[0m in \u001b[0;36m<module>\u001b[1;34m\u001b[0m\n\u001b[0;32m     47\u001b[0m \u001b[1;33m\u001b[0m\u001b[0m\n\u001b[0;32m     48\u001b[0m \u001b[1;32mfrom\u001b[0m \u001b[0msktime\u001b[0m\u001b[1;33m.\u001b[0m\u001b[0mdatatypes\u001b[0m\u001b[1;33m.\u001b[0m\u001b[0m_common\u001b[0m \u001b[1;32mimport\u001b[0m \u001b[0m_req\u001b[0m\u001b[1;33m,\u001b[0m \u001b[0m_ret\u001b[0m\u001b[1;33m\u001b[0m\u001b[1;33m\u001b[0m\u001b[0m\n\u001b[1;32m---> 49\u001b[1;33m from sktime.datatypes._series._check import (\n\u001b[0m\u001b[0;32m     50\u001b[0m     \u001b[0m_index_equally_spaced\u001b[0m\u001b[1;33m,\u001b[0m\u001b[1;33m\u001b[0m\u001b[1;33m\u001b[0m\u001b[0m\n\u001b[0;32m     51\u001b[0m     \u001b[0mcheck_pddataframe_series\u001b[0m\u001b[1;33m,\u001b[0m\u001b[1;33m\u001b[0m\u001b[1;33m\u001b[0m\u001b[0m\n",
      "\u001b[1;32m~\\Anaconda3\\lib\\site-packages\\sktime\\datatypes\\_series\\__init__.py\u001b[0m in \u001b[0;36m<module>\u001b[1;34m\u001b[0m\n\u001b[0;32m      4\u001b[0m \u001b[1;32mfrom\u001b[0m \u001b[0msktime\u001b[0m\u001b[1;33m.\u001b[0m\u001b[0mdatatypes\u001b[0m\u001b[1;33m.\u001b[0m\u001b[0m_series\u001b[0m\u001b[1;33m.\u001b[0m\u001b[0m_check\u001b[0m \u001b[1;32mimport\u001b[0m \u001b[0mcheck_dict\u001b[0m \u001b[1;32mas\u001b[0m \u001b[0mcheck_dict_Series\u001b[0m\u001b[1;33m\u001b[0m\u001b[1;33m\u001b[0m\u001b[0m\n\u001b[0;32m      5\u001b[0m \u001b[1;32mfrom\u001b[0m \u001b[0msktime\u001b[0m\u001b[1;33m.\u001b[0m\u001b[0mdatatypes\u001b[0m\u001b[1;33m.\u001b[0m\u001b[0m_series\u001b[0m\u001b[1;33m.\u001b[0m\u001b[0m_convert\u001b[0m \u001b[1;32mimport\u001b[0m \u001b[0mconvert_dict\u001b[0m \u001b[1;32mas\u001b[0m \u001b[0mconvert_dict_Series\u001b[0m\u001b[1;33m\u001b[0m\u001b[1;33m\u001b[0m\u001b[0m\n\u001b[1;32m----> 6\u001b[1;33m \u001b[1;32mfrom\u001b[0m \u001b[0msktime\u001b[0m\u001b[1;33m.\u001b[0m\u001b[0mdatatypes\u001b[0m\u001b[1;33m.\u001b[0m\u001b[0m_series\u001b[0m\u001b[1;33m.\u001b[0m\u001b[0m_examples\u001b[0m \u001b[1;32mimport\u001b[0m \u001b[0mexample_dict\u001b[0m \u001b[1;32mas\u001b[0m \u001b[0mexample_dict_Series\u001b[0m\u001b[1;33m\u001b[0m\u001b[1;33m\u001b[0m\u001b[0m\n\u001b[0m\u001b[0;32m      7\u001b[0m from sktime.datatypes._series._examples import (\n\u001b[0;32m      8\u001b[0m     \u001b[0mexample_dict_lossy\u001b[0m \u001b[1;32mas\u001b[0m \u001b[0mexample_dict_lossy_Series\u001b[0m\u001b[1;33m,\u001b[0m\u001b[1;33m\u001b[0m\u001b[1;33m\u001b[0m\u001b[0m\n",
      "\u001b[1;32m~\\Anaconda3\\lib\\site-packages\\sktime\\datatypes\\_series\\_examples.py\u001b[0m in \u001b[0;36m<module>\u001b[1;34m\u001b[0m\n\u001b[0;32m     69\u001b[0m \u001b[1;33m\u001b[0m\u001b[0m\n\u001b[0;32m     70\u001b[0m \u001b[1;32mif\u001b[0m \u001b[0m_check_soft_dependencies\u001b[0m\u001b[1;33m(\u001b[0m\u001b[1;34m\"dask\"\u001b[0m\u001b[1;33m,\u001b[0m \u001b[0mseverity\u001b[0m\u001b[1;33m=\u001b[0m\u001b[1;34m\"none\"\u001b[0m\u001b[1;33m)\u001b[0m\u001b[1;33m:\u001b[0m\u001b[1;33m\u001b[0m\u001b[1;33m\u001b[0m\u001b[0m\n\u001b[1;32m---> 71\u001b[1;33m     \u001b[1;32mfrom\u001b[0m \u001b[0mdask\u001b[0m\u001b[1;33m.\u001b[0m\u001b[0mdataframe\u001b[0m \u001b[1;32mimport\u001b[0m \u001b[0mfrom_pandas\u001b[0m\u001b[1;33m\u001b[0m\u001b[1;33m\u001b[0m\u001b[0m\n\u001b[0m\u001b[0;32m     72\u001b[0m \u001b[1;33m\u001b[0m\u001b[0m\n\u001b[0;32m     73\u001b[0m     \u001b[0mdf_dask\u001b[0m \u001b[1;33m=\u001b[0m \u001b[0mfrom_pandas\u001b[0m\u001b[1;33m(\u001b[0m\u001b[0mexample_dict\u001b[0m\u001b[1;33m[\u001b[0m\u001b[1;33m(\u001b[0m\u001b[1;34m\"pd.DataFrame\"\u001b[0m\u001b[1;33m,\u001b[0m \u001b[1;34m\"Series\"\u001b[0m\u001b[1;33m,\u001b[0m \u001b[1;36m0\u001b[0m\u001b[1;33m)\u001b[0m\u001b[1;33m]\u001b[0m\u001b[1;33m,\u001b[0m \u001b[0mnpartitions\u001b[0m\u001b[1;33m=\u001b[0m\u001b[1;36m1\u001b[0m\u001b[1;33m)\u001b[0m\u001b[1;33m\u001b[0m\u001b[1;33m\u001b[0m\u001b[0m\n",
      "\u001b[1;32m~\\Anaconda3\\lib\\site-packages\\dask\\dataframe\\__init__.py\u001b[0m in \u001b[0;36m<module>\u001b[1;34m\u001b[0m\n\u001b[0;32m     53\u001b[0m         \u001b[1;34m\"  pip install dask[dataframe] --upgrade  # or pip install\"\u001b[0m\u001b[1;33m\u001b[0m\u001b[1;33m\u001b[0m\u001b[0m\n\u001b[0;32m     54\u001b[0m     )\n\u001b[1;32m---> 55\u001b[1;33m     \u001b[1;32mraise\u001b[0m \u001b[0mImportError\u001b[0m\u001b[1;33m(\u001b[0m\u001b[0mstr\u001b[0m\u001b[1;33m(\u001b[0m\u001b[0me\u001b[0m\u001b[1;33m)\u001b[0m \u001b[1;33m+\u001b[0m \u001b[1;34m\"\\n\\n\"\u001b[0m \u001b[1;33m+\u001b[0m \u001b[0mmsg\u001b[0m\u001b[1;33m)\u001b[0m\u001b[1;33m\u001b[0m\u001b[1;33m\u001b[0m\u001b[0m\n\u001b[0m",
      "\u001b[1;31mImportError\u001b[0m: cannot import name 'BlockwiseDep' from 'dask.blockwise' (C:\\Users\\Jayanti\\Anaconda3\\lib\\site-packages\\dask\\blockwise.py)\n\nDask dataframe requirements are not installed.\n\nPlease either conda or pip install as follows:\n\n  conda install dask                     # either conda install\n  pip install dask[dataframe] --upgrade  # or pip install"
     ]
    }
   ],
   "source": [
    "import pycaret\n",
    "import pandas as pd\n",
    "import datetime\n",
    "from pycaret.time_series import TSForecastingExperiment\n",
    "from sktime.forecasting.base import ForecastingHorizon"
   ]
  },
  {
   "cell_type": "markdown",
   "id": "46cf794e-1255-406c-bc56-767bd595c4e5",
   "metadata": {},
   "source": [
    "### Reading Inputs"
   ]
  },
  {
   "cell_type": "code",
   "execution_count": null,
   "id": "43808f43-29da-4e2f-a509-8486819d3df1",
   "metadata": {
    "ExecuteTime": {
     "end_time": "2024-02-24T07:46:30.813577Z",
     "start_time": "2024-02-24T07:46:26.104Z"
    }
   },
   "outputs": [],
   "source": [
    "train = pd.read_csv('train.csv')\n",
    "#test = pd.read_csv('test.csv')"
   ]
  },
  {
   "cell_type": "code",
   "execution_count": null,
   "id": "3661ba58-82bb-4f15-acaa-1dfccac88972",
   "metadata": {
    "ExecuteTime": {
     "end_time": "2024-02-24T07:46:30.815572Z",
     "start_time": "2024-02-24T07:46:26.106Z"
    }
   },
   "outputs": [],
   "source": [
    "#train.tail()"
   ]
  },
  {
   "cell_type": "markdown",
   "id": "149d0cd4-aa82-4b93-9179-2fbd758b9614",
   "metadata": {},
   "source": [
    "#### Processing the Inputs\n",
    "###### Note we need to drop extra information provided here (which can't be used in test)\n",
    "###### Only date and segment can be used as inputs rest should be dropped"
   ]
  },
  {
   "cell_type": "code",
   "execution_count": null,
   "id": "85028174-ca25-4b55-bd85-d84b2d9b0991",
   "metadata": {
    "ExecuteTime": {
     "end_time": "2024-02-24T07:46:30.816569Z",
     "start_time": "2024-02-24T07:46:26.108Z"
    }
   },
   "outputs": [],
   "source": [
    "train = train.assign(application_date = pd.to_datetime(train.application_date, format=\"%Y-%m-%d\"))"
   ]
  },
  {
   "cell_type": "code",
   "execution_count": null,
   "id": "d6cb1854-ae78-4190-bd15-7dd03b3a181f",
   "metadata": {
    "ExecuteTime": {
     "end_time": "2024-02-24T07:46:30.817566Z",
     "start_time": "2024-02-24T07:46:26.110Z"
    }
   },
   "outputs": [],
   "source": [
    "#test = test.assign(application_date = pd.to_datetime(test.application_date, format=\"%Y-%m-%d\"))"
   ]
  },
  {
   "cell_type": "code",
   "execution_count": null,
   "id": "31b13ec7-184c-4960-91fc-15232c31b3a3",
   "metadata": {
    "ExecuteTime": {
     "end_time": "2024-02-24T07:46:30.819590Z",
     "start_time": "2024-02-24T07:46:26.112Z"
    }
   },
   "outputs": [],
   "source": [
    "train.application_date.min(), train.application_date.max()"
   ]
  },
  {
   "cell_type": "code",
   "execution_count": null,
   "id": "19816efa-508b-4790-8665-7bd4c37560f3",
   "metadata": {
    "ExecuteTime": {
     "end_time": "2024-02-24T07:46:30.820558Z",
     "start_time": "2024-02-24T07:46:26.114Z"
    }
   },
   "outputs": [],
   "source": [
    "#test.application_date.min(), test.application_date.max()"
   ]
  },
  {
   "cell_type": "markdown",
   "id": "13b8668f-de7c-42c7-a1d7-ecdcfa255bfd",
   "metadata": {},
   "source": [
    "##### Checking the types and range of data"
   ]
  },
  {
   "cell_type": "code",
   "execution_count": null,
   "id": "ea453e09-a379-4199-8f6f-b8a86cecbc40",
   "metadata": {
    "ExecuteTime": {
     "end_time": "2024-02-24T07:46:30.821422Z",
     "start_time": "2024-02-24T07:46:26.116Z"
    }
   },
   "outputs": [],
   "source": [
    "train.dtypes"
   ]
  },
  {
   "cell_type": "markdown",
   "id": "3eab7773-17d8-44ce-9ee2-06c715fdb51a",
   "metadata": {},
   "source": [
    "* There are couple of options here to solve this problem one way is to manually create features\n",
    "then use those features in xgboost model etc\n",
    "* The other option to use ARIMA or ESM and try to see if those work well with assumptions on ARIMA\n",
    "* Finally the last option which we are taking is to use pycaret which does feature engineering on its own and give us the result for many different algorithms\n",
    "* We would be choosing the last option as it covers the above two options"
   ]
  },
  {
   "cell_type": "code",
   "execution_count": null,
   "id": "358caa96-755e-4364-a2b2-cb0739549315",
   "metadata": {
    "ExecuteTime": {
     "end_time": "2024-02-24T07:46:30.823420Z",
     "start_time": "2024-02-24T07:46:26.118Z"
    }
   },
   "outputs": [],
   "source": [
    "### we have already imported pycaret\n",
    "### pycaret has two API -> functional as well as oop\n",
    "### We will choose oop to solve our problem, note functional \n",
    "### would make more sense if you are new to programming"
   ]
  },
  {
   "cell_type": "code",
   "execution_count": null,
   "id": "a49a25d1-221d-465f-8d88-5208ea536948",
   "metadata": {
    "ExecuteTime": {
     "end_time": "2024-02-24T07:46:30.824419Z",
     "start_time": "2024-02-24T07:46:26.120Z"
    }
   },
   "outputs": [],
   "source": [
    "train = train.set_index('application_date')"
   ]
  },
  {
   "cell_type": "code",
   "execution_count": null,
   "id": "3839b2bb-ebb3-4133-aed2-3ae600330fa6",
   "metadata": {
    "ExecuteTime": {
     "end_time": "2024-02-24T07:46:30.826446Z",
     "start_time": "2024-02-24T07:46:26.122Z"
    }
   },
   "outputs": [],
   "source": [
    "#train_march.head()\n",
    "train.filter(['case_count']).plot()"
   ]
  },
  {
   "cell_type": "markdown",
   "id": "2bbecd9b-b23e-4c32-b2a0-0febab5f6d76",
   "metadata": {},
   "source": [
    "**Initialise the TSForecastingExperiment**"
   ]
  },
  {
   "cell_type": "code",
   "execution_count": null,
   "id": "3422cf92-00fa-4bfb-8312-76baf59ef5c1",
   "metadata": {
    "ExecuteTime": {
     "end_time": "2024-02-24T07:46:30.827408Z",
     "start_time": "2024-02-24T07:46:26.125Z"
    }
   },
   "outputs": [],
   "source": [
    "exp = TSForecastingExperiment()"
   ]
  },
  {
   "cell_type": "code",
   "execution_count": null,
   "id": "b0ebdf6e-2422-44c9-a427-756270f6502a",
   "metadata": {
    "ExecuteTime": {
     "end_time": "2024-02-24T07:46:30.828405Z",
     "start_time": "2024-02-24T07:46:26.126Z"
    }
   },
   "outputs": [],
   "source": [
    "type(exp)"
   ]
  },
  {
   "cell_type": "markdown",
   "id": "34f6518e-941f-400c-bca3-e4e10519bec9",
   "metadata": {},
   "source": [
    "**Check for Forecasting missing values for both dates and case count**"
   ]
  },
  {
   "cell_type": "code",
   "execution_count": null,
   "id": "5bdfc233-a703-4a02-bfb8-70dd88286ad2",
   "metadata": {
    "ExecuteTime": {
     "end_time": "2024-02-24T07:46:30.830400Z",
     "start_time": "2024-02-24T07:46:26.129Z"
    }
   },
   "outputs": [],
   "source": [
    "train.case_count.isnull().sum()"
   ]
  },
  {
   "cell_type": "code",
   "execution_count": null,
   "id": "53549d39-7e72-46ea-aaa2-fa8eba360c7a",
   "metadata": {
    "ExecuteTime": {
     "end_time": "2024-02-24T07:46:30.831141Z",
     "start_time": "2024-02-24T07:46:26.130Z"
    }
   },
   "outputs": [],
   "source": [
    "train.index.isnull().sum()"
   ]
  },
  {
   "cell_type": "code",
   "execution_count": null,
   "id": "1a422e90-f253-4d79-bfa4-eefbc8ef08c8",
   "metadata": {
    "ExecuteTime": {
     "end_time": "2024-02-24T07:46:30.831141Z",
     "start_time": "2024-02-24T07:46:26.132Z"
    }
   },
   "outputs": [],
   "source": [
    "train.shape"
   ]
  },
  {
   "cell_type": "code",
   "execution_count": null,
   "id": "92b30e20-ee1b-41f5-abd1-b62af5ddaacf",
   "metadata": {
    "ExecuteTime": {
     "end_time": "2024-02-24T07:46:30.831141Z",
     "start_time": "2024-02-24T07:46:26.134Z"
    }
   },
   "outputs": [],
   "source": [
    "#setup()"
   ]
  },
  {
   "cell_type": "code",
   "execution_count": null,
   "id": "ba2bc297-384b-44f5-8de6-e5b89831b4dd",
   "metadata": {
    "ExecuteTime": {
     "end_time": "2024-02-24T07:46:30.838151Z",
     "start_time": "2024-02-24T07:46:26.136Z"
    }
   },
   "outputs": [],
   "source": [
    "exp.setup(train.filter(['case_count']), \n",
    "          fh= 120, session_id = 123, \n",
    "          target='case_count')"
   ]
  },
  {
   "cell_type": "markdown",
   "id": "94a089c6-1b86-4706-a010-14515d38585a",
   "metadata": {},
   "source": [
    "check_stats gives info on summary of data along with test of white noise with values of p values and test statistic\n",
    "It also gives information on distribution of data if it has normality or not"
   ]
  },
  {
   "cell_type": "code",
   "execution_count": null,
   "id": "393470ad-031a-4837-b18b-292eeeefd9db",
   "metadata": {
    "ExecuteTime": {
     "end_time": "2024-02-24T07:46:30.838452Z",
     "start_time": "2024-02-24T07:46:26.138Z"
    }
   },
   "outputs": [],
   "source": [
    "exp.check_stats()\n"
   ]
  },
  {
   "cell_type": "code",
   "execution_count": null,
   "id": "6afb98d9-95fb-4361-9b4e-7910e0adf32c",
   "metadata": {
    "ExecuteTime": {
     "end_time": "2024-02-24T07:46:30.838452Z",
     "start_time": "2024-02-24T07:46:26.140Z"
    }
   },
   "outputs": [],
   "source": [
    "exp.models()"
   ]
  },
  {
   "cell_type": "code",
   "execution_count": null,
   "id": "84ff8740-cc79-4d01-8610-619c139a9650",
   "metadata": {
    "ExecuteTime": {
     "end_time": "2024-02-24T07:46:30.838452Z",
     "start_time": "2024-02-24T07:46:26.142Z"
    }
   },
   "outputs": [],
   "source": [
    "pycaret.__version__"
   ]
  },
  {
   "cell_type": "code",
   "execution_count": null,
   "id": "a7dbaef9-6af9-4af5-8244-c45b1720a070",
   "metadata": {},
   "outputs": [],
   "source": []
  },
  {
   "cell_type": "code",
   "execution_count": null,
   "id": "5237da30-94a9-413e-bb69-f78fde03cb19",
   "metadata": {
    "ExecuteTime": {
     "end_time": "2024-02-24T07:46:30.838452Z",
     "start_time": "2024-02-24T07:46:26.145Z"
    }
   },
   "outputs": [],
   "source": [
    "model_arima = exp.create_model('auto_arima') # huber_cds_dt\n",
    "model_arima"
   ]
  },
  {
   "cell_type": "code",
   "execution_count": null,
   "id": "28f3de06-8308-4852-a40e-ad716fd6ac92",
   "metadata": {
    "ExecuteTime": {
     "end_time": "2024-02-24T07:46:30.838452Z",
     "start_time": "2024-02-24T07:46:26.147Z"
    }
   },
   "outputs": [],
   "source": [
    "print(model_arima.cutoff)"
   ]
  },
  {
   "cell_type": "code",
   "execution_count": null,
   "id": "c9bf954d-11c2-4ff2-9004-5762f2bdbb2f",
   "metadata": {
    "ExecuteTime": {
     "end_time": "2024-02-24T07:46:30.838452Z",
     "start_time": "2024-02-24T07:46:26.148Z"
    }
   },
   "outputs": [],
   "source": [
    "model_arima.get_fitted_params()"
   ]
  },
  {
   "cell_type": "code",
   "execution_count": null,
   "id": "097e0464-898e-4b92-bbaa-f516ab0afebc",
   "metadata": {
    "ExecuteTime": {
     "end_time": "2024-02-24T07:46:30.838452Z",
     "start_time": "2024-02-24T07:46:26.150Z"
    }
   },
   "outputs": [],
   "source": [
    "#statsmodel, pmdarima, sktime, sklearn..."
   ]
  },
  {
   "cell_type": "code",
   "execution_count": null,
   "id": "e26e4095-145d-4023-86d8-3078cf853f58",
   "metadata": {
    "ExecuteTime": {
     "end_time": "2024-02-24T07:46:30.838452Z",
     "start_time": "2024-02-24T07:46:26.152Z"
    }
   },
   "outputs": [],
   "source": [
    "#dir(model_arima)"
   ]
  },
  {
   "cell_type": "code",
   "execution_count": null,
   "id": "d6bcd04f-786c-4987-925f-61caf0c0c2c0",
   "metadata": {
    "ExecuteTime": {
     "end_time": "2024-02-24T07:46:30.838452Z",
     "start_time": "2024-02-24T07:46:26.155Z"
    }
   },
   "outputs": [],
   "source": [
    "type(model_arima._forecaster)"
   ]
  },
  {
   "cell_type": "code",
   "execution_count": null,
   "id": "70bcd04c-3bbe-4f90-a0a5-6d1365842887",
   "metadata": {
    "ExecuteTime": {
     "end_time": "2024-02-24T07:46:30.838452Z",
     "start_time": "2024-02-24T07:46:26.157Z"
    }
   },
   "outputs": [],
   "source": [
    "dir(model_arima)\n",
    "dir(model_arima._forecaster)\n",
    "model_arima._forecaster.summary()"
   ]
  },
  {
   "cell_type": "markdown",
   "id": "32791883-ee63-4ffa-aa4f-27565023d445",
   "metadata": {},
   "source": [
    "pycaret is very complex and has many interfaces binded together it uses statsmodel, sktime etc and bind them together to make this pacakge\n",
    "work, however because of this different implementation applied to common package, it gives a one code to make it work different algorithm,\n",
    "the drawback is that some of things which works in statsmodel might not work/compatible with sktime, you can explore it using the ._forecast and other\n",
    "related methods/attributes given at user level and hence it makes sometime difficult to intutively understand what could pycaret would do\n",
    "\n",
    "You can check this by running type command, for example: type(model_ets._forecaster) will give you that it is coming from statsmodel\n",
    "whereas type(model_arima._forecaster) will give you info that it is coming from pmdarima, similarly a complex model like lr_cds_dt is coming from sktime by typing type(newbest._forecaster) "
   ]
  },
  {
   "cell_type": "code",
   "execution_count": null,
   "id": "a5a6962a-47b2-45c6-bbdd-7d674a40f2fa",
   "metadata": {
    "ExecuteTime": {
     "end_time": "2024-02-24T07:46:30.838452Z",
     "start_time": "2024-02-24T07:46:26.159Z"
    }
   },
   "outputs": [],
   "source": [
    "\n",
    "#help(model_exp._forecaster)"
   ]
  },
  {
   "cell_type": "code",
   "execution_count": null,
   "id": "8ea2b676-8e4d-4009-9ede-e5fdeb063e0e",
   "metadata": {
    "ExecuteTime": {
     "end_time": "2024-02-24T07:46:30.853456Z",
     "start_time": "2024-02-24T07:46:26.161Z"
    }
   },
   "outputs": [],
   "source": [
    "model_exp = exp.create_model('exp_smooth', seasonal='mul', sp=28, trend='mul') # huber_cds_dt\n",
    "model_exp"
   ]
  },
  {
   "cell_type": "code",
   "execution_count": null,
   "id": "f98db8b0-8def-4bac-9db2-7b31733ddad6",
   "metadata": {
    "ExecuteTime": {
     "end_time": "2024-02-24T07:46:30.855187Z",
     "start_time": "2024-02-24T07:46:26.163Z"
    }
   },
   "outputs": [],
   "source": [
    "exp.predict_model(model_exp)"
   ]
  },
  {
   "cell_type": "code",
   "execution_count": null,
   "id": "50a3e288-5940-4e0e-b35b-ea1694faa2f1",
   "metadata": {
    "ExecuteTime": {
     "end_time": "2024-02-24T07:46:30.855187Z",
     "start_time": "2024-02-24T07:46:26.165Z"
    }
   },
   "outputs": [],
   "source": [
    "model_ets = exp.create_model('ets', trend='mul') # huber_cds_dt\n",
    "model_ets"
   ]
  },
  {
   "cell_type": "code",
   "execution_count": null,
   "id": "a88c7445-1e14-4e3f-a9e1-05cdaf4ebab0",
   "metadata": {
    "ExecuteTime": {
     "end_time": "2024-02-24T07:46:30.855187Z",
     "start_time": "2024-02-24T07:46:26.167Z"
    }
   },
   "outputs": [],
   "source": [
    "type(model_ets)"
   ]
  },
  {
   "cell_type": "code",
   "execution_count": null,
   "id": "a88cdac3-d605-4f72-bb4d-766e741e1a00",
   "metadata": {
    "ExecuteTime": {
     "end_time": "2024-02-24T07:46:30.855187Z",
     "start_time": "2024-02-24T07:46:26.169Z"
    }
   },
   "outputs": [],
   "source": [
    "type(model_exp)"
   ]
  },
  {
   "cell_type": "code",
   "execution_count": null,
   "id": "e5c4823a-fddc-4a7c-b976-610635bc9359",
   "metadata": {
    "ExecuteTime": {
     "end_time": "2024-02-24T07:46:30.855187Z",
     "start_time": "2024-02-24T07:46:26.171Z"
    }
   },
   "outputs": [],
   "source": [
    "type(model_ets._forecaster)"
   ]
  },
  {
   "cell_type": "code",
   "execution_count": null,
   "id": "21e4f3fb-9545-47a3-a930-24fa131bbae7",
   "metadata": {
    "ExecuteTime": {
     "end_time": "2024-02-24T07:46:30.855187Z",
     "start_time": "2024-02-24T07:46:26.173Z"
    }
   },
   "outputs": [],
   "source": [
    "dir(model_ets._forecaster)\n",
    "model_ets._forecaster"
   ]
  },
  {
   "cell_type": "markdown",
   "id": "962bae73-d9dc-4b0e-ab81-040632e7c64a",
   "metadata": {},
   "source": [
    "In case you use a model and don't wish to run comapre_models then proably it is a good idea to tune it , one \n",
    "can use exp.tune_model(model) with model earlier trained"
   ]
  },
  {
   "cell_type": "code",
   "execution_count": null,
   "id": "3c3b111c-2c85-4496-999d-fbc37d7e126d",
   "metadata": {
    "ExecuteTime": {
     "end_time": "2024-02-24T07:46:30.855187Z",
     "start_time": "2024-02-24T07:46:26.175Z"
    }
   },
   "outputs": [],
   "source": [
    "exp.predict_model(model_ets)"
   ]
  },
  {
   "cell_type": "code",
   "execution_count": null,
   "id": "9cb236dd-dbdb-4c97-b9c6-d6885f3c2edb",
   "metadata": {
    "ExecuteTime": {
     "end_time": "2024-02-24T07:46:30.855187Z",
     "start_time": "2024-02-24T07:46:26.177Z"
    }
   },
   "outputs": [],
   "source": [
    "train.tail(120)"
   ]
  },
  {
   "cell_type": "code",
   "execution_count": null,
   "id": "e5d349f9-29b4-44b2-b418-5d11e0753176",
   "metadata": {
    "ExecuteTime": {
     "end_time": "2024-02-24T07:46:30.855187Z",
     "start_time": "2024-02-24T07:46:26.179Z"
    }
   },
   "outputs": [],
   "source": [
    "# tune_model = exp.tune_model(model)\n",
    "# tune_model\n",
    "# exp.plot_model(tune_model)"
   ]
  },
  {
   "cell_type": "markdown",
   "id": "1fa54c8b-7384-4aaa-bd98-1d853eea260d",
   "metadata": {},
   "source": [
    "To compare many mondels at once, one can use exp.compare_models and pick the one that best suits your needs\n",
    "The matrix will give you all information regarding validation metrics to make that decision"
   ]
  },
  {
   "cell_type": "code",
   "execution_count": null,
   "id": "e2f8f32a-8eae-4666-878d-ac852462ddf4",
   "metadata": {
    "ExecuteTime": {
     "end_time": "2024-02-24T07:46:30.868193Z",
     "start_time": "2024-02-24T07:46:26.181Z"
    }
   },
   "outputs": [],
   "source": [
    "best = exp.compare_models()"
   ]
  },
  {
   "cell_type": "code",
   "execution_count": null,
   "id": "b9ae3028-d11f-4a1a-bd27-05fca429cdc5",
   "metadata": {
    "ExecuteTime": {
     "end_time": "2024-02-24T07:46:30.870699Z",
     "start_time": "2024-02-24T07:46:26.183Z"
    }
   },
   "outputs": [],
   "source": [
    "best"
   ]
  },
  {
   "cell_type": "code",
   "execution_count": null,
   "id": "45f0c9a7-576e-4f8b-8449-90d5beb42c41",
   "metadata": {
    "ExecuteTime": {
     "end_time": "2024-02-24T07:46:30.872264Z",
     "start_time": "2024-02-24T07:46:26.184Z"
    }
   },
   "outputs": [],
   "source": [
    "newbest = exp.create_model('lr_cds_dt', return_train_score=True)"
   ]
  },
  {
   "cell_type": "code",
   "execution_count": null,
   "id": "78d23731-39fb-4cbd-a049-7a5ecbe56cb6",
   "metadata": {
    "ExecuteTime": {
     "end_time": "2024-02-24T07:46:30.875356Z",
     "start_time": "2024-02-24T07:46:26.186Z"
    }
   },
   "outputs": [],
   "source": [
    "newbest"
   ]
  },
  {
   "cell_type": "code",
   "execution_count": null,
   "id": "9f962e14-4d8b-4583-b578-0cfc80e7569f",
   "metadata": {
    "ExecuteTime": {
     "end_time": "2024-02-24T07:46:30.875356Z",
     "start_time": "2024-02-24T07:46:26.188Z"
    }
   },
   "outputs": [],
   "source": [
    "type(newbest._forecaster)"
   ]
  },
  {
   "cell_type": "code",
   "execution_count": null,
   "id": "9a080f41-57c4-4ed9-a36a-f5e1a8819699",
   "metadata": {
    "ExecuteTime": {
     "end_time": "2024-02-24T07:46:30.875356Z",
     "start_time": "2024-02-24T07:46:26.190Z"
    }
   },
   "outputs": [],
   "source": [
    "newbest._predict()"
   ]
  },
  {
   "cell_type": "code",
   "execution_count": null,
   "id": "1af92778-b661-435a-a030-82cdd01c199e",
   "metadata": {
    "ExecuteTime": {
     "end_time": "2024-02-24T07:46:30.875356Z",
     "start_time": "2024-02-24T07:46:26.192Z"
    }
   },
   "outputs": [],
   "source": [
    "newbest._forecaster"
   ]
  },
  {
   "cell_type": "code",
   "execution_count": null,
   "id": "b38cddbd-63fa-4b63-b02b-adf9522bf768",
   "metadata": {
    "ExecuteTime": {
     "end_time": "2024-02-24T07:46:30.875356Z",
     "start_time": "2024-02-24T07:46:26.194Z"
    }
   },
   "outputs": [],
   "source": [
    "type(best._forecaster)"
   ]
  },
  {
   "cell_type": "code",
   "execution_count": null,
   "id": "f40133c5-c287-4ae9-8528-2a72e8f21159",
   "metadata": {
    "ExecuteTime": {
     "end_time": "2024-02-24T07:46:30.875356Z",
     "start_time": "2024-02-24T07:46:26.196Z"
    }
   },
   "outputs": [],
   "source": [
    "train.index[-1], train.index[0]"
   ]
  },
  {
   "cell_type": "code",
   "execution_count": null,
   "id": "551f2718-434f-415f-bd95-4d67cda886b3",
   "metadata": {
    "ExecuteTime": {
     "end_time": "2024-02-24T07:46:30.875356Z",
     "start_time": "2024-02-24T07:46:26.198Z"
    }
   },
   "outputs": [],
   "source": [
    "best._forecaster.named_steps.keys()"
   ]
  },
  {
   "cell_type": "code",
   "execution_count": null,
   "id": "5b04d8cc-377a-4015-b2fe-2834e4cd8e09",
   "metadata": {
    "ExecuteTime": {
     "end_time": "2024-02-24T07:46:30.887924Z",
     "start_time": "2024-02-24T07:46:26.200Z"
    }
   },
   "outputs": [],
   "source": [
    "exp.plot_model(best)"
   ]
  },
  {
   "cell_type": "code",
   "execution_count": null,
   "id": "0a1ea50b-4e59-4bd6-bf9e-879b6c3ba151",
   "metadata": {
    "ExecuteTime": {
     "end_time": "2024-02-24T07:46:30.890164Z",
     "start_time": "2024-02-24T07:46:26.202Z"
    }
   },
   "outputs": [],
   "source": [
    "predictions = exp.predict_model(best)"
   ]
  },
  {
   "cell_type": "code",
   "execution_count": null,
   "id": "1536f4ca-802f-4bdc-9a0b-764388d790af",
   "metadata": {
    "ExecuteTime": {
     "end_time": "2024-02-24T07:46:30.891161Z",
     "start_time": "2024-02-24T07:46:26.204Z"
    }
   },
   "outputs": [],
   "source": [
    "predictions.head()"
   ]
  },
  {
   "cell_type": "markdown",
   "id": "081b885f-456b-4af8-a755-da9f617fcc4f",
   "metadata": {},
   "source": [
    "#### These won't work for this model but for supported model it would work"
   ]
  },
  {
   "cell_type": "code",
   "execution_count": null,
   "id": "b6e5e3f0-ddb6-4098-b1b4-04a2b88b06e9",
   "metadata": {},
   "outputs": [],
   "source": [
    "\n"
   ]
  },
  {
   "cell_type": "code",
   "execution_count": null,
   "id": "831441c0-06a1-45a9-b93d-7f6578581b36",
   "metadata": {
    "ExecuteTime": {
     "end_time": "2024-02-24T07:46:30.893155Z",
     "start_time": "2024-02-24T07:46:26.207Z"
    }
   },
   "outputs": [],
   "source": [
    "exp.plot_model(best,plot = 'acf')\n",
    "\n",
    "exp.plot_model(best, plot = 'diagnostics')\n",
    "\n",
    "# Decomposition plot\n",
    "exp.plot_model(best, plot = 'decomp_stl')\n",
    "\n",
    "exp.plot_model(best, 'insample')\n",
    "\n",
    "exp.plot_model(best, plot = 'residuals')"
   ]
  },
  {
   "cell_type": "code",
   "execution_count": null,
   "id": "20802ed9-bf84-4c2c-becf-2e43b92146f9",
   "metadata": {
    "ExecuteTime": {
     "end_time": "2024-02-24T07:46:30.894152Z",
     "start_time": "2024-02-24T07:46:26.209Z"
    }
   },
   "outputs": [],
   "source": [
    "exp.plot_model( best, data_kwargs = {'fh' : 120})"
   ]
  },
  {
   "cell_type": "markdown",
   "id": "9a7f35b5-e218-4ba8-acca-896ef3d5f787",
   "metadata": {},
   "source": [
    "### Saving the model"
   ]
  },
  {
   "cell_type": "code",
   "execution_count": null,
   "id": "278356b0-23e7-497b-a092-8871b411af93",
   "metadata": {
    "ExecuteTime": {
     "end_time": "2024-02-24T07:46:30.896147Z",
     "start_time": "2024-02-24T07:46:26.211Z"
    }
   },
   "outputs": [],
   "source": [
    "exp.save_model(best, 'best_cdsDtForecaster')"
   ]
  },
  {
   "cell_type": "markdown",
   "id": "033cfc1f-f351-4c38-95cc-d17376ad0fe0",
   "metadata": {},
   "source": [
    "#### Loading the model"
   ]
  },
  {
   "cell_type": "code",
   "execution_count": null,
   "id": "b3452502-ca7b-4ca0-8056-de3f7d41c651",
   "metadata": {
    "ExecuteTime": {
     "end_time": "2024-02-24T07:46:30.897144Z",
     "start_time": "2024-02-24T07:46:26.214Z"
    }
   },
   "outputs": [],
   "source": [
    "newbest = exp.load_model('best_cdsDtForecaster')"
   ]
  },
  {
   "cell_type": "code",
   "execution_count": null,
   "id": "1d9293f4-292d-44ce-b356-3ba4025f5aa9",
   "metadata": {
    "ExecuteTime": {
     "end_time": "2024-02-24T07:46:30.899139Z",
     "start_time": "2024-02-24T07:46:26.215Z"
    }
   },
   "outputs": [],
   "source": [
    "exp.plot_model(newbest)"
   ]
  },
  {
   "cell_type": "code",
   "execution_count": null,
   "id": "33464afe-3b0c-44c1-8883-11e310c20b68",
   "metadata": {
    "ExecuteTime": {
     "end_time": "2024-02-24T07:46:30.900135Z",
     "start_time": "2024-02-24T07:46:26.218Z"
    }
   },
   "outputs": [],
   "source": [
    "predict_holdout = exp.predict_model(model_arima, fh=120)"
   ]
  },
  {
   "cell_type": "code",
   "execution_count": null,
   "id": "7752bdd5-4150-4149-b7f4-f85c2926a513",
   "metadata": {
    "ExecuteTime": {
     "end_time": "2024-02-24T07:46:30.902130Z",
     "start_time": "2024-02-24T07:46:26.220Z"
    }
   },
   "outputs": [],
   "source": [
    "predict_holdout.head()"
   ]
  },
  {
   "cell_type": "code",
   "execution_count": null,
   "id": "09c8feb3-6ceb-4503-941e-f224e4858ff6",
   "metadata": {
    "ExecuteTime": {
     "end_time": "2024-02-24T07:46:30.903128Z",
     "start_time": "2024-02-24T07:46:26.222Z"
    }
   },
   "outputs": [],
   "source": [
    "predictions = exp.predict_model(best, fh=120)"
   ]
  },
  {
   "cell_type": "code",
   "execution_count": null,
   "id": "6c1eed68-c3cb-4cee-8c45-042678c8c1b6",
   "metadata": {
    "ExecuteTime": {
     "end_time": "2024-02-24T07:46:30.905094Z",
     "start_time": "2024-02-24T07:46:26.224Z"
    }
   },
   "outputs": [],
   "source": [
    "predictions.head()"
   ]
  },
  {
   "cell_type": "markdown",
   "id": "afe7effb-b031-4105-be37-2b02563038f6",
   "metadata": {},
   "source": [
    "A very important note that pycaret can solve problems having exogenous variable as input apart from datetime and continous predictions"
   ]
  },
  {
   "cell_type": "markdown",
   "id": "212b85b9-cbb6-4a78-b45b-1ff2ed559c09",
   "metadata": {},
   "source": [
    "#### The below is written by Moez Ali (Developer of Pycaret)\n",
    "Some very important point with respect to open source functionalities, they are never constant\n",
    "\n",
    "Version 1.0 of PyCaret in Apr 2020, compare_models function was comparing all the models in the library to return the averaged \n",
    "cross-validated performance metrics. Based on which you would use create_model to train the best performing model and get \n",
    "the trained model output that you can use for predictions.\n",
    "This behavior was later changed in version 2.0. compare_models now returns the best model based on the n_select\n",
    "parameter which by default is set to 1 which means that it will return the best model (by default).\n",
    "\n",
    "By changing the default n_select parameter to 3, you can get a list of top 3 models\n",
    "\n",
    "The returned objects are trained models, you really don’t need to call create_model again to train them. You can use these models to generate diagnostic plots or to even use them for predictions\n",
    "\n",
    "The sklearn algorithm can be used with pycaret (create_model function also accepts untrained model object in addition to the ID’s of models available in the model library. As long as your object is compatible with scikit-learn fit/predict API)\n",
    "                                         "
   ]
  },
  {
   "cell_type": "markdown",
   "id": "96ea5ebb-3aa1-411f-bbfb-5395f965fdd0",
   "metadata": {},
   "source": []
  },
  {
   "cell_type": "code",
   "execution_count": null,
   "id": "c64d11f7-33a3-4d1f-a093-7292a65b7263",
   "metadata": {
    "ExecuteTime": {
     "end_time": "2024-02-24T07:46:30.906558Z",
     "start_time": "2024-02-24T07:46:26.227Z"
    }
   },
   "outputs": [],
   "source": [
    "def create_features(df, label=None):\n",
    "    \"\"\"\n",
    "    Creates time series features from datetime index\n",
    "    \"\"\"\n",
    "    df['date'] = df.index\n",
    "    df['hour'] = df['date'].dt.hour\n",
    "    df['dayofweek'] = df['date'].dt.dayofweek\n",
    "    df['quarter'] = df['date'].dt.quarter\n",
    "    df['month'] = df['date'].dt.month\n",
    "    df['year'] = df['date'].dt.year\n",
    "    df['dayofyear'] = df['date'].dt.dayofyear\n",
    "    df['dayofmonth'] = df['date'].dt.day\n",
    "    df['weekofyear'] = df['date'].dt.weekofyear\n",
    "    \n",
    "    X = df[['hour','dayofweek','quarter','month','year',\n",
    "           'dayofyear','dayofmonth','weekofyear']]\n",
    "    if label:\n",
    "        y = df[label]\n",
    "        return X, y\n",
    "    return X"
   ]
  },
  {
   "cell_type": "markdown",
   "id": "366abea8-1323-4477-a8ae-097c8149d4e4",
   "metadata": {},
   "source": [
    "### An example with exogenous variable and Arima"
   ]
  },
  {
   "cell_type": "code",
   "execution_count": null,
   "id": "ed64c034-aa24-497e-994d-4fce8cc2d162",
   "metadata": {
    "ExecuteTime": {
     "end_time": "2024-02-24T07:46:30.908672Z",
     "start_time": "2024-02-24T07:46:26.229Z"
    }
   },
   "outputs": [],
   "source": [
    "import pandas as pd\n",
    "from pycaret.time_series import TSForecastingExperiment\n",
    "#import numpy as np\n",
    "#from pycaret.internal.pycaret_experiment import TimeSeriesExperiment\n",
    "#from pycaret.datasets import get_data\n",
    "#from sktime.transformations.series.summarize import WindowSummarizer"
   ]
  },
  {
   "cell_type": "code",
   "execution_count": null,
   "id": "a01b9e08-b977-4e49-822f-8914f3a1c374",
   "metadata": {
    "ExecuteTime": {
     "end_time": "2024-02-24T07:46:30.910665Z",
     "start_time": "2024-02-24T07:46:26.231Z"
    }
   },
   "outputs": [],
   "source": [
    "data = pd.read_csv('timeseries_exo.csv', index_col=0)"
   ]
  },
  {
   "cell_type": "code",
   "execution_count": null,
   "id": "6489436f-a77e-40d9-851d-8f778a3c0a92",
   "metadata": {
    "ExecuteTime": {
     "end_time": "2024-02-24T07:46:30.911663Z",
     "start_time": "2024-02-24T07:46:26.233Z"
    }
   },
   "outputs": [],
   "source": [
    "data.head()"
   ]
  },
  {
   "cell_type": "code",
   "execution_count": null,
   "id": "4fde0b61-2ca4-46c8-a359-2c99772c2359",
   "metadata": {
    "ExecuteTime": {
     "end_time": "2024-02-24T07:46:30.913657Z",
     "start_time": "2024-02-24T07:46:26.235Z"
    }
   },
   "outputs": [],
   "source": [
    "#data.index = pd.to_datetime(data.index, format = \"%Y-%m-%d\")"
   ]
  },
  {
   "cell_type": "code",
   "execution_count": null,
   "id": "e1cc8ca2-337b-43e7-bf8b-2a6b40d5d248",
   "metadata": {
    "ExecuteTime": {
     "end_time": "2024-02-24T07:46:30.915652Z",
     "start_time": "2024-02-24T07:46:26.237Z"
    }
   },
   "outputs": [],
   "source": [
    "FH = 12\n",
    "target = \"Consumption\"\n",
    "data_for_modeling = data\n",
    "#data_for_modeling = data.iloc[:-FH]\n",
    "#future_data = data.iloc[-FH:]\n",
    "#future_exog = future_data.drop(columns=target)"
   ]
  },
  {
   "cell_type": "code",
   "execution_count": null,
   "id": "1c382c79-527d-4cd8-b28e-4a93c8d7d83c",
   "metadata": {
    "ExecuteTime": {
     "end_time": "2024-02-24T07:46:30.916649Z",
     "start_time": "2024-02-24T07:46:26.239Z"
    }
   },
   "outputs": [],
   "source": [
    "print(data_for_modeling.shape) #future_exog.shape)"
   ]
  },
  {
   "cell_type": "code",
   "execution_count": null,
   "id": "b1508de2-29af-4789-a550-9ca3473f0196",
   "metadata": {
    "ExecuteTime": {
     "end_time": "2024-02-24T07:46:30.918642Z",
     "start_time": "2024-02-24T07:46:26.241Z"
    }
   },
   "outputs": [],
   "source": [
    "data.head()"
   ]
  },
  {
   "cell_type": "code",
   "execution_count": null,
   "id": "0839be6d-5a21-4797-9476-9bbbd48b75db",
   "metadata": {
    "ExecuteTime": {
     "end_time": "2024-02-24T07:46:30.920638Z",
     "start_time": "2024-02-24T07:46:26.243Z"
    }
   },
   "outputs": [],
   "source": [
    "data.index = pd.to_datetime(data.index, format='%Y-%m-%d')"
   ]
  },
  {
   "cell_type": "code",
   "execution_count": null,
   "id": "3d825ce6-e106-4db5-ae86-eeea21e27840",
   "metadata": {
    "ExecuteTime": {
     "end_time": "2024-02-24T07:46:30.922049Z",
     "start_time": "2024-02-24T07:46:26.245Z"
    }
   },
   "outputs": [],
   "source": [
    "\n",
    "#### Setup Experiment ----\n",
    "exp = TSForecastingExperiment()\n",
    "exp.setup(\n",
    "    data=data_for_modeling, target=target, \n",
    "    fh=FH, seasonal_period=4, session_id=42\n",
    ")\n"
   ]
  },
  {
   "cell_type": "code",
   "execution_count": null,
   "id": "74f88859-1988-4842-a87a-c17fe1e34dbf",
   "metadata": {
    "ExecuteTime": {
     "end_time": "2024-02-24T07:46:30.922049Z",
     "start_time": "2024-02-24T07:46:26.247Z"
    }
   },
   "outputs": [],
   "source": [
    "\n",
    "#### Baseline Model ----\n",
    "model = exp.create_model(\"auto_arima\") ## you can choose arima as well\n",
    "preds = exp.predict_model(model)\n",
    "exp.plot_model(model)\n",
    "\n"
   ]
  },
  {
   "cell_type": "code",
   "execution_count": null,
   "id": "a1d98358-b290-46e3-8639-acca3395b1ec",
   "metadata": {
    "ExecuteTime": {
     "end_time": "2024-02-24T07:46:30.922049Z",
     "start_time": "2024-02-24T07:46:26.248Z"
    }
   },
   "outputs": [],
   "source": [
    "future_preds = exp.predict_model(model)"
   ]
  },
  {
   "cell_type": "code",
   "execution_count": null,
   "id": "4cee7b58-c251-46c4-af7b-cedcac262a26",
   "metadata": {
    "ExecuteTime": {
     "end_time": "2024-02-24T07:46:30.922049Z",
     "start_time": "2024-02-24T07:46:26.250Z"
    }
   },
   "outputs": [],
   "source": [
    "data_for_modeling.tail(20)"
   ]
  },
  {
   "cell_type": "code",
   "execution_count": null,
   "id": "60fb1233-0f64-49d8-800d-72b48090e172",
   "metadata": {
    "ExecuteTime": {
     "end_time": "2024-02-24T07:46:30.922049Z",
     "start_time": "2024-02-24T07:46:26.252Z"
    }
   },
   "outputs": [],
   "source": [
    "print(future_preds)\n"
   ]
  },
  {
   "cell_type": "code",
   "execution_count": null,
   "id": "f50cc989-d99a-401b-a9a8-47daf39dccb3",
   "metadata": {
    "ExecuteTime": {
     "end_time": "2024-02-24T07:46:30.922049Z",
     "start_time": "2024-02-24T07:46:26.256Z"
    }
   },
   "outputs": [],
   "source": [
    "exp.plot_model(model) "
   ]
  },
  {
   "cell_type": "code",
   "execution_count": null,
   "id": "40fab2a4-74a2-4ee0-9243-242a9e8295ba",
   "metadata": {
    "ExecuteTime": {
     "end_time": "2024-02-24T07:46:30.922049Z",
     "start_time": "2024-02-24T07:46:26.264Z"
    }
   },
   "outputs": [],
   "source": [
    "#help(exp.plot_model)"
   ]
  },
  {
   "cell_type": "code",
   "execution_count": null,
   "id": "ff9bade6-996c-498e-89d1-d5677d2ff62a",
   "metadata": {
    "ExecuteTime": {
     "end_time": "2024-02-24T07:46:30.922049Z",
     "start_time": "2024-02-24T07:46:26.268Z"
    }
   },
   "outputs": [],
   "source": [
    "exp.plot_model(model,plot = 'pacf')\n"
   ]
  },
  {
   "cell_type": "code",
   "execution_count": null,
   "id": "32282ce4-7db6-4a45-931c-4669d38b67d7",
   "metadata": {
    "ExecuteTime": {
     "end_time": "2024-02-24T07:46:30.922049Z",
     "start_time": "2024-02-24T07:46:26.271Z"
    }
   },
   "outputs": [],
   "source": [
    "exp.plot_model(model,plot = 'acf')"
   ]
  },
  {
   "cell_type": "code",
   "execution_count": null,
   "id": "cd9be1ba-b36b-4549-a43c-782894791632",
   "metadata": {
    "ExecuteTime": {
     "end_time": "2024-02-24T07:46:30.922049Z",
     "start_time": "2024-02-24T07:46:26.275Z"
    }
   },
   "outputs": [],
   "source": [
    "# from matplotlib import pyplot as plt\n",
    "# plt.figure(figsize= (30, 20))"
   ]
  },
  {
   "cell_type": "code",
   "execution_count": null,
   "id": "ddbb4609-6da6-48de-9bc1-2083a6ee2b71",
   "metadata": {
    "ExecuteTime": {
     "end_time": "2024-02-24T07:46:30.937919Z",
     "start_time": "2024-02-24T07:46:26.279Z"
    }
   },
   "outputs": [],
   "source": [
    "exp.plot_model(model, plot = 'diagnostics')"
   ]
  },
  {
   "cell_type": "code",
   "execution_count": null,
   "id": "aaf2a843-0271-4541-b145-51404eb3620d",
   "metadata": {
    "ExecuteTime": {
     "end_time": "2024-02-24T07:46:30.938546Z",
     "start_time": "2024-02-24T07:46:26.288Z"
    }
   },
   "outputs": [],
   "source": [
    "# Decomposition plot\n",
    "exp.plot_model(model, plot = 'decomp_stl')\n",
    "\n"
   ]
  },
  {
   "cell_type": "code",
   "execution_count": null,
   "id": "6f4d7819-3402-4989-b59b-18ae75e53ac3",
   "metadata": {
    "ExecuteTime": {
     "end_time": "2024-02-24T07:46:30.938546Z",
     "start_time": "2024-02-24T07:46:26.293Z"
    }
   },
   "outputs": [],
   "source": [
    "exp.plot_model(model, 'insample')"
   ]
  },
  {
   "cell_type": "code",
   "execution_count": null,
   "id": "ea3c3055-6c8f-4b2d-a6a8-941b8dddf390",
   "metadata": {
    "ExecuteTime": {
     "end_time": "2024-02-24T07:46:30.938546Z",
     "start_time": "2024-02-24T07:46:26.295Z"
    }
   },
   "outputs": [],
   "source": [
    "exp.plot_model(model, plot = 'residuals')\n",
    "\n"
   ]
  },
  {
   "cell_type": "code",
   "execution_count": null,
   "id": "c6995e42-eacb-4f97-a643-afcdf2e6703d",
   "metadata": {
    "ExecuteTime": {
     "end_time": "2024-02-24T07:46:30.938546Z",
     "start_time": "2024-02-24T07:46:26.298Z"
    }
   },
   "outputs": [],
   "source": [
    "## ETS\n",
    "## It can't be performed because of exogenous variable"
   ]
  },
  {
   "cell_type": "markdown",
   "id": "eaaf509d-0684-4c17-a5fa-99750094c3e1",
   "metadata": {},
   "source": [
    "##### A better Solution can be done using compare_models()"
   ]
  },
  {
   "cell_type": "code",
   "execution_count": null,
   "id": "c2058281-4606-4116-be47-a972fdd9ef4c",
   "metadata": {
    "ExecuteTime": {
     "end_time": "2024-02-24T07:46:30.938546Z",
     "start_time": "2024-02-24T07:46:26.300Z"
    }
   },
   "outputs": [],
   "source": [
    "#### Setup Experiment ----\n",
    "exp = TSForecastingExperiment()\n",
    "exp.setup(\n",
    "    data=data_for_modeling, target=target, fh=FH, seasonal_period=4, session_id=42\n",
    ")\n"
   ]
  },
  {
   "cell_type": "code",
   "execution_count": null,
   "id": "b117f303-dc35-40c9-b9fe-2e64a4176163",
   "metadata": {
    "ExecuteTime": {
     "end_time": "2024-02-24T07:46:30.938546Z",
     "start_time": "2024-02-24T07:46:26.302Z"
    }
   },
   "outputs": [],
   "source": [
    "exp.models()"
   ]
  },
  {
   "cell_type": "code",
   "execution_count": null,
   "id": "562bc6dc-694e-45fb-9346-7a3cd2239043",
   "metadata": {
    "ExecuteTime": {
     "end_time": "2024-02-24T07:46:30.938546Z",
     "start_time": "2024-02-24T07:46:26.304Z"
    }
   },
   "outputs": [],
   "source": [
    "\n",
    "#### Baseline Model ----\n",
    "model = exp.compare_models() ## you can choose arima as well\n",
    "preds = exp.predict_model(model)\n",
    "exp.plot_model(model)\n",
    "\n"
   ]
  },
  {
   "cell_type": "code",
   "execution_count": null,
   "id": "e6a982e5-e14b-44b8-8ad7-8c17ac81483d",
   "metadata": {
    "ExecuteTime": {
     "end_time": "2024-02-24T07:46:30.938546Z",
     "start_time": "2024-02-24T07:46:26.306Z"
    }
   },
   "outputs": [],
   "source": [
    "#exp.pull(model)"
   ]
  },
  {
   "cell_type": "code",
   "execution_count": null,
   "id": "8da72de9-5a38-4dfe-a3d2-a82ee81f69d9",
   "metadata": {
    "ExecuteTime": {
     "end_time": "2024-02-24T07:46:30.953551Z",
     "start_time": "2024-02-24T07:46:26.308Z"
    }
   },
   "outputs": [],
   "source": [
    "#### Tune Model ----\n",
    "tuned_model = exp.tune_model(model)\n",
    "exp.predict_model(tuned_model)\n",
    "exp.plot_model(tuned_model)\n"
   ]
  },
  {
   "cell_type": "code",
   "execution_count": null,
   "id": "50ba119e-8030-4257-905a-5ce3835bb849",
   "metadata": {
    "ExecuteTime": {
     "end_time": "2024-02-24T07:46:30.955253Z",
     "start_time": "2024-02-24T07:46:26.310Z"
    }
   },
   "outputs": [],
   "source": [
    "#exp.pull(tuned_model)"
   ]
  },
  {
   "cell_type": "code",
   "execution_count": null,
   "id": "6c7173de-1b49-4c7c-891a-9df6857c9a62",
   "metadata": {
    "ExecuteTime": {
     "end_time": "2024-02-24T07:46:30.955253Z",
     "start_time": "2024-02-24T07:46:26.312Z"
    }
   },
   "outputs": [],
   "source": [
    "#help(exp.predict_model)"
   ]
  },
  {
   "cell_type": "code",
   "execution_count": null,
   "id": "122ac50f-814e-4743-84e9-b46eb5b03cea",
   "metadata": {
    "ExecuteTime": {
     "end_time": "2024-02-24T07:46:30.955253Z",
     "start_time": "2024-02-24T07:46:26.316Z"
    }
   },
   "outputs": [],
   "source": [
    "#### Finalize Model ----\n",
    "final_model = exp.finalize_model(tuned_model)"
   ]
  },
  {
   "cell_type": "code",
   "execution_count": null,
   "id": "84b7f467-5f75-46a1-90a2-dcae2b5cd070",
   "metadata": {},
   "outputs": [],
   "source": []
  },
  {
   "cell_type": "code",
   "execution_count": null,
   "id": "dd96ffa7-7328-4510-9146-a0ae146e8a14",
   "metadata": {
    "ExecuteTime": {
     "end_time": "2024-02-24T07:46:30.955253Z",
     "start_time": "2024-02-24T07:46:26.320Z"
    }
   },
   "outputs": [],
   "source": [
    "exp.predict_model(final_model,fh=12, X=data_for_modeling)"
   ]
  },
  {
   "cell_type": "code",
   "execution_count": null,
   "id": "764217d5-5cbd-400a-93f9-e0e84730036e",
   "metadata": {
    "ExecuteTime": {
     "end_time": "2024-02-24T07:46:30.955253Z",
     "start_time": "2024-02-24T07:46:26.323Z"
    }
   },
   "outputs": [],
   "source": [
    "data.sort_index().tail(12)"
   ]
  },
  {
   "cell_type": "code",
   "execution_count": null,
   "id": "8e73c345-1834-4241-9590-8a893e713c8b",
   "metadata": {
    "ExecuteTime": {
     "end_time": "2024-02-24T07:46:30.955253Z",
     "start_time": "2024-02-24T07:46:26.325Z"
    }
   },
   "outputs": [],
   "source": [
    "print(future_preds)\n"
   ]
  },
  {
   "cell_type": "code",
   "execution_count": null,
   "id": "f450e04e-c6b6-45f4-b557-68d370be0f57",
   "metadata": {
    "ExecuteTime": {
     "end_time": "2024-02-24T07:46:30.955253Z",
     "start_time": "2024-02-24T07:46:26.330Z"
    }
   },
   "outputs": [],
   "source": [
    "#exp.plot_model(final_model)  # Uses test split from before finalizing as future exogenous values\n",
    "exp.plot_model(final_model, data_kwargs={'X': future_exog}) # Uses provided X_test values"
   ]
  },
  {
   "cell_type": "code",
   "execution_count": null,
   "id": "34f4a105-6e5f-4018-9614-d2a89f279821",
   "metadata": {
    "ExecuteTime": {
     "end_time": "2024-02-24T07:46:30.968259Z",
     "start_time": "2024-02-24T07:46:26.332Z"
    }
   },
   "outputs": [],
   "source": [
    "#help(exp.plot_model)"
   ]
  },
  {
   "cell_type": "code",
   "execution_count": null,
   "id": "134ec0b2-4aaf-4b2a-86a7-52ffc67f3f39",
   "metadata": {
    "ExecuteTime": {
     "end_time": "2024-02-24T07:46:30.970271Z",
     "start_time": "2024-02-24T07:46:26.334Z"
    }
   },
   "outputs": [],
   "source": [
    "exp.plot_model(final_model,plot = 'pacf')\n"
   ]
  },
  {
   "cell_type": "code",
   "execution_count": null,
   "id": "f7d9198c-26d9-4380-b28c-aeeccf995875",
   "metadata": {
    "ExecuteTime": {
     "end_time": "2024-02-24T07:46:30.971872Z",
     "start_time": "2024-02-24T07:46:26.336Z"
    }
   },
   "outputs": [],
   "source": [
    "exp.plot_model(final_model,plot = 'acf')"
   ]
  },
  {
   "cell_type": "code",
   "execution_count": null,
   "id": "696e77e5-a344-4008-90f9-f976ef98b505",
   "metadata": {
    "ExecuteTime": {
     "end_time": "2024-02-24T07:46:30.971872Z",
     "start_time": "2024-02-24T07:46:26.338Z"
    }
   },
   "outputs": [],
   "source": [
    "# from matplotlib import pyplot as plt\n",
    "# plt.figure(figsize= (30, 20))"
   ]
  },
  {
   "cell_type": "code",
   "execution_count": null,
   "id": "cd7b249c-63b7-460d-b29e-5c7779da0873",
   "metadata": {
    "ExecuteTime": {
     "end_time": "2024-02-24T07:46:30.971872Z",
     "start_time": "2024-02-24T07:46:26.340Z"
    }
   },
   "outputs": [],
   "source": [
    "exp.plot_model(final_model, plot = 'diagnostics')"
   ]
  },
  {
   "cell_type": "code",
   "execution_count": null,
   "id": "f8b8bac3-e591-4826-9d52-f2d3b3d667d0",
   "metadata": {
    "ExecuteTime": {
     "end_time": "2024-02-24T07:46:30.971872Z",
     "start_time": "2024-02-24T07:46:26.342Z"
    }
   },
   "outputs": [],
   "source": [
    "# Decomposition plot\n",
    "exp.plot_model(final_model, plot = 'decomp_stl')\n",
    "\n"
   ]
  },
  {
   "cell_type": "code",
   "execution_count": null,
   "id": "9e789cb8-2976-42d6-aa3b-e94c6c53f237",
   "metadata": {
    "ExecuteTime": {
     "end_time": "2024-02-24T07:46:30.971872Z",
     "start_time": "2024-02-24T07:46:26.344Z"
    }
   },
   "outputs": [],
   "source": [
    "exp.plot_model(final_model, 'insample')\n",
    "\n"
   ]
  },
  {
   "cell_type": "code",
   "execution_count": null,
   "id": "7259b15e-4a11-448e-bd73-6bb5022179fe",
   "metadata": {
    "ExecuteTime": {
     "end_time": "2024-02-24T07:46:30.971872Z",
     "start_time": "2024-02-24T07:46:26.346Z"
    }
   },
   "outputs": [],
   "source": [
    "exp.plot_model(final_model, plot = 'residuals')\n",
    "\n"
   ]
  },
  {
   "cell_type": "markdown",
   "id": "69f8d64b-e30c-4bb1-b49e-7c40d8a7a2c9",
   "metadata": {},
   "source": [
    "In practice, the smoothing parameter is often chosen by a grid search of the parameter space; that is, different solutions for α are tried starting, for example, with α = 0.1 to α = 0.9, with increments of 0.1. Then α is chosen so as to produce the smallest sums of squares (or mean squares) for the residuals (i.e., observed values minus one-step-ahead forecasts; this mean squared error is also referred to as ex post mean squared error, ex post MSE for short)."
   ]
  },
  {
   "cell_type": "code",
   "execution_count": null,
   "id": "d6cfdbdb-b110-4fa9-93b6-af8386471492",
   "metadata": {},
   "outputs": [],
   "source": []
  }
 ],
 "metadata": {
  "kernelspec": {
   "display_name": "Python 3",
   "language": "python",
   "name": "python3"
  },
  "language_info": {
   "codemirror_mode": {
    "name": "ipython",
    "version": 3
   },
   "file_extension": ".py",
   "mimetype": "text/x-python",
   "name": "python",
   "nbconvert_exporter": "python",
   "pygments_lexer": "ipython3",
   "version": "3.7.4"
  },
  "toc": {
   "base_numbering": 1,
   "nav_menu": {},
   "number_sections": false,
   "sideBar": true,
   "skip_h1_title": false,
   "title_cell": "Table of Contents",
   "title_sidebar": "Contents",
   "toc_cell": false,
   "toc_position": {},
   "toc_section_display": true,
   "toc_window_display": false
  }
 },
 "nbformat": 4,
 "nbformat_minor": 5
}
